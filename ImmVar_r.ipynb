{
  "nbformat": 4,
  "nbformat_minor": 0,
  "metadata": {
    "colab": {
      "provenance": [],
      "collapsed_sections": [
        "URatmxrQQf-X",
        "UCsTbtTWBVrr",
        "Ceme-vTBD1H0"
      ]
    },
    "kernelspec": {
      "name": "ir",
      "display_name": "R"
    },
    "language_info": {
      "name": "R"
    },
    "gpuClass": "standard"
  },
  "cells": [
    {
      "cell_type": "markdown",
      "source": [
        "# Package management"
      ],
      "metadata": {
        "id": "UCsTbtTWBVrr"
      }
    },
    {
      "cell_type": "code",
      "execution_count": null,
      "metadata": {
        "colab": {
          "base_uri": "https://localhost:8080/"
        },
        "id": "zlHp49gxzsyJ",
        "outputId": "d22d1b35-545f-44c5-f844-f97e5e09f2b4"
      },
      "outputs": [
        {
          "output_type": "stream",
          "name": "stderr",
          "text": [
            "Installing package into ‘/usr/local/lib/R/site-library’\n",
            "(as ‘lib’ is unspecified)\n",
            "\n",
            "'getOption(\"repos\")' replaces Bioconductor standard repositories, see\n",
            "'?repositories' for details\n",
            "\n",
            "replacement repositories:\n",
            "    CRAN: https://cran.rstudio.com\n",
            "\n",
            "\n",
            "Bioconductor version 3.16 (BiocManager 1.30.19), R 4.2.2 Patched (2022-11-10\n",
            "  r83330)\n",
            "\n",
            "Installing package(s) 'BiocVersion', 'variancePartition'\n",
            "\n",
            "also installing the dependencies ‘formatR’, ‘lambda.r’, ‘futile.options’, ‘bitops’, ‘futile.logger’, ‘snow’, ‘BH’, ‘numDeriv’, ‘gtools’, ‘caTools’, ‘plyr’, ‘Rcpp’, ‘RUnit’, ‘clusterGeneration’, ‘mvtnorm’, ‘rbibutils’, ‘minqa’, ‘nloptr’, ‘RcppEigen’, ‘BiocGenerics’, ‘limma’, ‘BiocParallel’, ‘pbkrtest’, ‘lmerTest’, ‘iterators’, ‘foreach’, ‘doParallel’, ‘gplots’, ‘RhpcBLASctl’, ‘reshape2’, ‘remaCor’, ‘aod’, ‘Rdpack’, ‘lme4’, ‘Biobase’\n",
            "\n",
            "\n",
            "Old packages: 'bit', 'bslib', 'data.table', 'devtools', 'digest', 'gert',\n",
            "  'highr', 'isoband', 'jsonlite', 'openssl', 'pkgload', 'roxygen2', 'stringr',\n",
            "  'testthat', 'tidyverse', 'whisker', 'boot', 'foreign', 'survival'\n",
            "\n",
            "'getOption(\"repos\")' replaces Bioconductor standard repositories, see\n",
            "'?repositories' for details\n",
            "\n",
            "replacement repositories:\n",
            "    CRAN: https://cran.rstudio.com\n",
            "\n",
            "\n",
            "Bioconductor version 3.16 (BiocManager 1.30.19), R 4.2.2 Patched (2022-11-10\n",
            "  r83330)\n",
            "\n",
            "Installing package(s) 'GEOquery'\n",
            "\n",
            "also installing the dependencies ‘R.oo’, ‘R.methodsS3’, ‘R.utils’\n",
            "\n",
            "\n",
            "Old packages: 'bit', 'bslib', 'data.table', 'devtools', 'digest', 'gert',\n",
            "  'highr', 'isoband', 'jsonlite', 'openssl', 'pkgload', 'roxygen2', 'stringr',\n",
            "  'testthat', 'tidyverse', 'whisker', 'boot', 'foreign', 'survival'\n",
            "\n"
          ]
        }
      ],
      "source": [
        "if (!require(\"BiocManager\", quietly = TRUE))\n",
        "    install.packages(\"BiocManager\")\n",
        "\n",
        "BiocManager::install(\"variancePartition\")\n",
        "BiocManager::install(\"GEOquery\")"
      ]
    },
    {
      "cell_type": "code",
      "source": [
        "library(\"variancePartition\")\n",
        "library(\"GEOquery\")\n",
        "library(\"limma\")\n",
        "library(ggplot2)"
      ],
      "metadata": {
        "id": "j3nY6T4U0NCp",
        "colab": {
          "base_uri": "https://localhost:8080/"
        },
        "outputId": "c5ec9567-9c47-4412-855c-f93644beb682"
      },
      "execution_count": null,
      "outputs": [
        {
          "output_type": "stream",
          "name": "stderr",
          "text": [
            "Loading required package: ggplot2\n",
            "\n",
            "Loading required package: limma\n",
            "\n",
            "Loading required package: BiocParallel\n",
            "\n",
            "\n",
            "Attaching package: ‘variancePartition’\n",
            "\n",
            "\n",
            "The following object is masked from ‘package:limma’:\n",
            "\n",
            "    topTable\n",
            "\n",
            "\n",
            "Loading required package: Biobase\n",
            "\n",
            "Loading required package: BiocGenerics\n",
            "\n",
            "\n",
            "Attaching package: ‘BiocGenerics’\n",
            "\n",
            "\n",
            "The following object is masked from ‘package:limma’:\n",
            "\n",
            "    plotMA\n",
            "\n",
            "\n",
            "The following objects are masked from ‘package:stats’:\n",
            "\n",
            "    IQR, mad, sd, var, xtabs\n",
            "\n",
            "\n",
            "The following objects are masked from ‘package:base’:\n",
            "\n",
            "    anyDuplicated, aperm, append, as.data.frame, basename, cbind,\n",
            "    colnames, dirname, do.call, duplicated, eval, evalq, Filter, Find,\n",
            "    get, grep, grepl, intersect, is.unsorted, lapply, Map, mapply,\n",
            "    match, mget, order, paste, pmax, pmax.int, pmin, pmin.int,\n",
            "    Position, rank, rbind, Reduce, rownames, sapply, setdiff, sort,\n",
            "    table, tapply, union, unique, unsplit, which.max, which.min\n",
            "\n",
            "\n",
            "Welcome to Bioconductor\n",
            "\n",
            "    Vignettes contain introductory material; view with\n",
            "    'browseVignettes()'. To cite Bioconductor, see\n",
            "    'citation(\"Biobase\")', and for packages 'citation(\"pkgname\")'.\n",
            "\n",
            "\n",
            "Setting options('download.file.method.GEOquery'='auto')\n",
            "\n",
            "Setting options('GEOquery.inmemory.gpl'=FALSE)\n",
            "\n"
          ]
        }
      ]
    },
    {
      "cell_type": "markdown",
      "source": [
        "# Data extraction & preprocessing (ImmVar)"
      ],
      "metadata": {
        "id": "J3D44SR9BZ6M"
      }
    },
    {
      "cell_type": "markdown",
      "source": [
        "## Data access (GEOquery)\n",
        "\n",
        "- cd4 - T-cells \n",
        "- cd14 - monocytes "
      ],
      "metadata": {
        "id": "Ceme-vTBD1H0"
      }
    },
    {
      "cell_type": "code",
      "source": [
        "# download supplementary files _ population info\n",
        "getGEOSuppFiles(\"GSE56033\")\n",
        "getGEOSuppFiles(\"GSE56034\")\n",
        "\n",
        "# Get ImmVar (monocytes/ Tcells) from GEO\n",
        "gse_cd4 <- getGEO(\"GSE56033\", GSEMatrix = TRUE)\n",
        "gse_cd14 <- getGEO(\"GSE56034\", GSEMatrix = TRUE)\n",
        "show(gse_cd4)\n",
        "show(gse_cd14)"
      ],
      "metadata": {
        "id": "E-F-PDgXOIv_",
        "colab": {
          "base_uri": "https://localhost:8080/",
          "height": 1000
        },
        "outputId": "b62a313f-1141-4599-c9bb-2302b4e60dbd"
      },
      "execution_count": null,
      "outputs": [
        {
          "output_type": "display_data",
          "data": {
            "text/html": [
              "<table class=\"dataframe\">\n",
              "<caption>A data.frame: 4 × 10</caption>\n",
              "<thead>\n",
              "\t<tr><th></th><th scope=col>size</th><th scope=col>isdir</th><th scope=col>mode</th><th scope=col>mtime</th><th scope=col>ctime</th><th scope=col>atime</th><th scope=col>uid</th><th scope=col>gid</th><th scope=col>uname</th><th scope=col>grname</th></tr>\n",
              "\t<tr><th></th><th scope=col>&lt;dbl&gt;</th><th scope=col>&lt;lgl&gt;</th><th scope=col>&lt;octmode&gt;</th><th scope=col>&lt;dttm&gt;</th><th scope=col>&lt;dttm&gt;</th><th scope=col>&lt;dttm&gt;</th><th scope=col>&lt;int&gt;</th><th scope=col>&lt;int&gt;</th><th scope=col>&lt;chr&gt;</th><th scope=col>&lt;chr&gt;</th></tr>\n",
              "</thead>\n",
              "<tbody>\n",
              "\t<tr><th scope=row>/content/GSE56033/GSE56033_GSM.ImmVarCD4.AA.PC12.txt.gz</th><td>   8269125</td><td>FALSE</td><td>644</td><td>2023-02-17 23:02:33</td><td>2023-02-17 23:02:33</td><td>2023-02-17 23:02:32</td><td>0</td><td>0</td><td>root</td><td>root</td></tr>\n",
              "\t<tr><th scope=row>/content/GSE56033/GSE56033_GSM.ImmVarCD4.EA.PC12.txt.gz</th><td>   6076112</td><td>FALSE</td><td>644</td><td>2023-02-17 23:02:33</td><td>2023-02-17 23:02:33</td><td>2023-02-17 23:02:33</td><td>0</td><td>0</td><td>root</td><td>root</td></tr>\n",
              "\t<tr><th scope=row>/content/GSE56033/GSE56033_GSM.ImmVarCD4.EU.PC20.txt.gz</th><td>  15629828</td><td>FALSE</td><td>644</td><td>2023-02-17 23:02:33</td><td>2023-02-17 23:02:33</td><td>2023-02-17 23:02:33</td><td>0</td><td>0</td><td>root</td><td>root</td></tr>\n",
              "\t<tr><th scope=row>/content/GSE56033/GSE56033_RAW.tar</th><td>2130739200</td><td>FALSE</td><td>644</td><td>2023-02-17 23:03:04</td><td>2023-02-17 23:03:04</td><td>2023-02-17 23:02:33</td><td>0</td><td>0</td><td>root</td><td>root</td></tr>\n",
              "</tbody>\n",
              "</table>\n"
            ],
            "text/markdown": "\nA data.frame: 4 × 10\n\n| <!--/--> | size &lt;dbl&gt; | isdir &lt;lgl&gt; | mode &lt;octmode&gt; | mtime &lt;dttm&gt; | ctime &lt;dttm&gt; | atime &lt;dttm&gt; | uid &lt;int&gt; | gid &lt;int&gt; | uname &lt;chr&gt; | grname &lt;chr&gt; |\n|---|---|---|---|---|---|---|---|---|---|---|\n| /content/GSE56033/GSE56033_GSM.ImmVarCD4.AA.PC12.txt.gz |    8269125 | FALSE | 644 | 2023-02-17 23:02:33 | 2023-02-17 23:02:33 | 2023-02-17 23:02:32 | 0 | 0 | root | root |\n| /content/GSE56033/GSE56033_GSM.ImmVarCD4.EA.PC12.txt.gz |    6076112 | FALSE | 644 | 2023-02-17 23:02:33 | 2023-02-17 23:02:33 | 2023-02-17 23:02:33 | 0 | 0 | root | root |\n| /content/GSE56033/GSE56033_GSM.ImmVarCD4.EU.PC20.txt.gz |   15629828 | FALSE | 644 | 2023-02-17 23:02:33 | 2023-02-17 23:02:33 | 2023-02-17 23:02:33 | 0 | 0 | root | root |\n| /content/GSE56033/GSE56033_RAW.tar | 2130739200 | FALSE | 644 | 2023-02-17 23:03:04 | 2023-02-17 23:03:04 | 2023-02-17 23:02:33 | 0 | 0 | root | root |\n\n",
            "text/latex": "A data.frame: 4 × 10\n\\begin{tabular}{r|llllllllll}\n  & size & isdir & mode & mtime & ctime & atime & uid & gid & uname & grname\\\\\n  & <dbl> & <lgl> & <octmode> & <dttm> & <dttm> & <dttm> & <int> & <int> & <chr> & <chr>\\\\\n\\hline\n\t/content/GSE56033/GSE56033\\_GSM.ImmVarCD4.AA.PC12.txt.gz &    8269125 & FALSE & 644 & 2023-02-17 23:02:33 & 2023-02-17 23:02:33 & 2023-02-17 23:02:32 & 0 & 0 & root & root\\\\\n\t/content/GSE56033/GSE56033\\_GSM.ImmVarCD4.EA.PC12.txt.gz &    6076112 & FALSE & 644 & 2023-02-17 23:02:33 & 2023-02-17 23:02:33 & 2023-02-17 23:02:33 & 0 & 0 & root & root\\\\\n\t/content/GSE56033/GSE56033\\_GSM.ImmVarCD4.EU.PC20.txt.gz &   15629828 & FALSE & 644 & 2023-02-17 23:02:33 & 2023-02-17 23:02:33 & 2023-02-17 23:02:33 & 0 & 0 & root & root\\\\\n\t/content/GSE56033/GSE56033\\_RAW.tar & 2130739200 & FALSE & 644 & 2023-02-17 23:03:04 & 2023-02-17 23:03:04 & 2023-02-17 23:02:33 & 0 & 0 & root & root\\\\\n\\end{tabular}\n",
            "text/plain": [
              "                                                        size       isdir mode\n",
              "/content/GSE56033/GSE56033_GSM.ImmVarCD4.AA.PC12.txt.gz    8269125 FALSE 644 \n",
              "/content/GSE56033/GSE56033_GSM.ImmVarCD4.EA.PC12.txt.gz    6076112 FALSE 644 \n",
              "/content/GSE56033/GSE56033_GSM.ImmVarCD4.EU.PC20.txt.gz   15629828 FALSE 644 \n",
              "/content/GSE56033/GSE56033_RAW.tar                      2130739200 FALSE 644 \n",
              "                                                        mtime              \n",
              "/content/GSE56033/GSE56033_GSM.ImmVarCD4.AA.PC12.txt.gz 2023-02-17 23:02:33\n",
              "/content/GSE56033/GSE56033_GSM.ImmVarCD4.EA.PC12.txt.gz 2023-02-17 23:02:33\n",
              "/content/GSE56033/GSE56033_GSM.ImmVarCD4.EU.PC20.txt.gz 2023-02-17 23:02:33\n",
              "/content/GSE56033/GSE56033_RAW.tar                      2023-02-17 23:03:04\n",
              "                                                        ctime              \n",
              "/content/GSE56033/GSE56033_GSM.ImmVarCD4.AA.PC12.txt.gz 2023-02-17 23:02:33\n",
              "/content/GSE56033/GSE56033_GSM.ImmVarCD4.EA.PC12.txt.gz 2023-02-17 23:02:33\n",
              "/content/GSE56033/GSE56033_GSM.ImmVarCD4.EU.PC20.txt.gz 2023-02-17 23:02:33\n",
              "/content/GSE56033/GSE56033_RAW.tar                      2023-02-17 23:03:04\n",
              "                                                        atime               uid\n",
              "/content/GSE56033/GSE56033_GSM.ImmVarCD4.AA.PC12.txt.gz 2023-02-17 23:02:32 0  \n",
              "/content/GSE56033/GSE56033_GSM.ImmVarCD4.EA.PC12.txt.gz 2023-02-17 23:02:33 0  \n",
              "/content/GSE56033/GSE56033_GSM.ImmVarCD4.EU.PC20.txt.gz 2023-02-17 23:02:33 0  \n",
              "/content/GSE56033/GSE56033_RAW.tar                      2023-02-17 23:02:33 0  \n",
              "                                                        gid uname grname\n",
              "/content/GSE56033/GSE56033_GSM.ImmVarCD4.AA.PC12.txt.gz 0   root  root  \n",
              "/content/GSE56033/GSE56033_GSM.ImmVarCD4.EA.PC12.txt.gz 0   root  root  \n",
              "/content/GSE56033/GSE56033_GSM.ImmVarCD4.EU.PC20.txt.gz 0   root  root  \n",
              "/content/GSE56033/GSE56033_RAW.tar                      0   root  root  "
            ]
          },
          "metadata": {}
        },
        {
          "output_type": "display_data",
          "data": {
            "text/html": [
              "<table class=\"dataframe\">\n",
              "<caption>A data.frame: 4 × 10</caption>\n",
              "<thead>\n",
              "\t<tr><th></th><th scope=col>size</th><th scope=col>isdir</th><th scope=col>mode</th><th scope=col>mtime</th><th scope=col>ctime</th><th scope=col>atime</th><th scope=col>uid</th><th scope=col>gid</th><th scope=col>uname</th><th scope=col>grname</th></tr>\n",
              "\t<tr><th></th><th scope=col>&lt;dbl&gt;</th><th scope=col>&lt;lgl&gt;</th><th scope=col>&lt;octmode&gt;</th><th scope=col>&lt;dttm&gt;</th><th scope=col>&lt;dttm&gt;</th><th scope=col>&lt;dttm&gt;</th><th scope=col>&lt;int&gt;</th><th scope=col>&lt;int&gt;</th><th scope=col>&lt;chr&gt;</th><th scope=col>&lt;chr&gt;</th></tr>\n",
              "</thead>\n",
              "<tbody>\n",
              "\t<tr><th scope=row>/content/GSE56034/GSE56034_GSM.ImmVarCD14.AA.PC14.txt.gz</th><td>   8280393</td><td>FALSE</td><td>644</td><td>2023-02-17 23:03:05</td><td>2023-02-17 23:03:05</td><td>2023-02-17 23:01:06</td><td>0</td><td>0</td><td>root</td><td>root</td></tr>\n",
              "\t<tr><th scope=row>/content/GSE56034/GSE56034_GSM.ImmVarCD14.EA.PC10.txt.gz</th><td>   5817258</td><td>FALSE</td><td>644</td><td>2023-02-17 23:03:05</td><td>2023-02-17 23:03:05</td><td>2023-02-17 23:01:06</td><td>0</td><td>0</td><td>root</td><td>root</td></tr>\n",
              "\t<tr><th scope=row>/content/GSE56034/GSE56034_GSM.ImmVarCD14.EU.PC20.txt.gz</th><td>  15524046</td><td>FALSE</td><td>644</td><td>2023-02-17 23:03:06</td><td>2023-02-17 23:03:06</td><td>2023-02-17 23:01:06</td><td>0</td><td>0</td><td>root</td><td>root</td></tr>\n",
              "\t<tr><th scope=row>/content/GSE56034/GSE56034_RAW.tar</th><td>2130022400</td><td>FALSE</td><td>644</td><td>2023-02-17 23:03:38</td><td>2023-02-17 23:03:38</td><td>2023-02-17 23:01:07</td><td>0</td><td>0</td><td>root</td><td>root</td></tr>\n",
              "</tbody>\n",
              "</table>\n"
            ],
            "text/markdown": "\nA data.frame: 4 × 10\n\n| <!--/--> | size &lt;dbl&gt; | isdir &lt;lgl&gt; | mode &lt;octmode&gt; | mtime &lt;dttm&gt; | ctime &lt;dttm&gt; | atime &lt;dttm&gt; | uid &lt;int&gt; | gid &lt;int&gt; | uname &lt;chr&gt; | grname &lt;chr&gt; |\n|---|---|---|---|---|---|---|---|---|---|---|\n| /content/GSE56034/GSE56034_GSM.ImmVarCD14.AA.PC14.txt.gz |    8280393 | FALSE | 644 | 2023-02-17 23:03:05 | 2023-02-17 23:03:05 | 2023-02-17 23:01:06 | 0 | 0 | root | root |\n| /content/GSE56034/GSE56034_GSM.ImmVarCD14.EA.PC10.txt.gz |    5817258 | FALSE | 644 | 2023-02-17 23:03:05 | 2023-02-17 23:03:05 | 2023-02-17 23:01:06 | 0 | 0 | root | root |\n| /content/GSE56034/GSE56034_GSM.ImmVarCD14.EU.PC20.txt.gz |   15524046 | FALSE | 644 | 2023-02-17 23:03:06 | 2023-02-17 23:03:06 | 2023-02-17 23:01:06 | 0 | 0 | root | root |\n| /content/GSE56034/GSE56034_RAW.tar | 2130022400 | FALSE | 644 | 2023-02-17 23:03:38 | 2023-02-17 23:03:38 | 2023-02-17 23:01:07 | 0 | 0 | root | root |\n\n",
            "text/latex": "A data.frame: 4 × 10\n\\begin{tabular}{r|llllllllll}\n  & size & isdir & mode & mtime & ctime & atime & uid & gid & uname & grname\\\\\n  & <dbl> & <lgl> & <octmode> & <dttm> & <dttm> & <dttm> & <int> & <int> & <chr> & <chr>\\\\\n\\hline\n\t/content/GSE56034/GSE56034\\_GSM.ImmVarCD14.AA.PC14.txt.gz &    8280393 & FALSE & 644 & 2023-02-17 23:03:05 & 2023-02-17 23:03:05 & 2023-02-17 23:01:06 & 0 & 0 & root & root\\\\\n\t/content/GSE56034/GSE56034\\_GSM.ImmVarCD14.EA.PC10.txt.gz &    5817258 & FALSE & 644 & 2023-02-17 23:03:05 & 2023-02-17 23:03:05 & 2023-02-17 23:01:06 & 0 & 0 & root & root\\\\\n\t/content/GSE56034/GSE56034\\_GSM.ImmVarCD14.EU.PC20.txt.gz &   15524046 & FALSE & 644 & 2023-02-17 23:03:06 & 2023-02-17 23:03:06 & 2023-02-17 23:01:06 & 0 & 0 & root & root\\\\\n\t/content/GSE56034/GSE56034\\_RAW.tar & 2130022400 & FALSE & 644 & 2023-02-17 23:03:38 & 2023-02-17 23:03:38 & 2023-02-17 23:01:07 & 0 & 0 & root & root\\\\\n\\end{tabular}\n",
            "text/plain": [
              "                                                         size       isdir mode\n",
              "/content/GSE56034/GSE56034_GSM.ImmVarCD14.AA.PC14.txt.gz    8280393 FALSE 644 \n",
              "/content/GSE56034/GSE56034_GSM.ImmVarCD14.EA.PC10.txt.gz    5817258 FALSE 644 \n",
              "/content/GSE56034/GSE56034_GSM.ImmVarCD14.EU.PC20.txt.gz   15524046 FALSE 644 \n",
              "/content/GSE56034/GSE56034_RAW.tar                       2130022400 FALSE 644 \n",
              "                                                         mtime              \n",
              "/content/GSE56034/GSE56034_GSM.ImmVarCD14.AA.PC14.txt.gz 2023-02-17 23:03:05\n",
              "/content/GSE56034/GSE56034_GSM.ImmVarCD14.EA.PC10.txt.gz 2023-02-17 23:03:05\n",
              "/content/GSE56034/GSE56034_GSM.ImmVarCD14.EU.PC20.txt.gz 2023-02-17 23:03:06\n",
              "/content/GSE56034/GSE56034_RAW.tar                       2023-02-17 23:03:38\n",
              "                                                         ctime              \n",
              "/content/GSE56034/GSE56034_GSM.ImmVarCD14.AA.PC14.txt.gz 2023-02-17 23:03:05\n",
              "/content/GSE56034/GSE56034_GSM.ImmVarCD14.EA.PC10.txt.gz 2023-02-17 23:03:05\n",
              "/content/GSE56034/GSE56034_GSM.ImmVarCD14.EU.PC20.txt.gz 2023-02-17 23:03:06\n",
              "/content/GSE56034/GSE56034_RAW.tar                       2023-02-17 23:03:38\n",
              "                                                         atime              \n",
              "/content/GSE56034/GSE56034_GSM.ImmVarCD14.AA.PC14.txt.gz 2023-02-17 23:01:06\n",
              "/content/GSE56034/GSE56034_GSM.ImmVarCD14.EA.PC10.txt.gz 2023-02-17 23:01:06\n",
              "/content/GSE56034/GSE56034_GSM.ImmVarCD14.EU.PC20.txt.gz 2023-02-17 23:01:06\n",
              "/content/GSE56034/GSE56034_RAW.tar                       2023-02-17 23:01:07\n",
              "                                                         uid gid uname grname\n",
              "/content/GSE56034/GSE56034_GSM.ImmVarCD14.AA.PC14.txt.gz 0   0   root  root  \n",
              "/content/GSE56034/GSE56034_GSM.ImmVarCD14.EA.PC10.txt.gz 0   0   root  root  \n",
              "/content/GSE56034/GSE56034_GSM.ImmVarCD14.EU.PC20.txt.gz 0   0   root  root  \n",
              "/content/GSE56034/GSE56034_RAW.tar                       0   0   root  root  "
            ]
          },
          "metadata": {}
        },
        {
          "output_type": "stream",
          "name": "stderr",
          "text": [
            "Found 1 file(s)\n",
            "\n",
            "GSE56033_series_matrix.txt.gz\n",
            "\n",
            "Using locally cached version: /tmp/Rtmp2aXf6v/GSE56033_series_matrix.txt.gz\n",
            "\n",
            "Using locally cached version of GPL6244 found here:\n",
            "/tmp/Rtmp2aXf6v/GPL6244.soft.gz \n",
            "\n",
            "Found 1 file(s)\n",
            "\n",
            "GSE56034_series_matrix.txt.gz\n",
            "\n",
            "Using locally cached version: /tmp/Rtmp2aXf6v/GSE56034_series_matrix.txt.gz\n",
            "\n",
            "Using locally cached version of GPL6244 found here:\n",
            "/tmp/Rtmp2aXf6v/GPL6244.soft.gz \n",
            "\n"
          ]
        },
        {
          "output_type": "stream",
          "name": "stdout",
          "text": [
            "$GSE56033_series_matrix.txt.gz\n",
            "ExpressionSet (storageMode: lockedEnvironment)\n",
            "assayData: 21727 features, 499 samples \n",
            "  element names: exprs \n",
            "protocolData: none\n",
            "phenoData\n",
            "  sampleNames: GSM1350856 GSM1350857 ... GSM1355864 (499 total)\n",
            "  varLabels: title geo_accession ... Sex:ch1 (48 total)\n",
            "  varMetadata: labelDescription\n",
            "featureData\n",
            "  featureNames: 7896740 7896742 ... 8180179 (21727 total)\n",
            "  fvarLabels: ID GB_LIST ... category (12 total)\n",
            "  fvarMetadata: Column Description labelDescription\n",
            "experimentData: use 'experimentData(object)'\n",
            "  pubMedIds: 24786080\n",
            "31541153 \n",
            "Annotation: GPL6244 \n",
            "\n",
            "$GSE56034_series_matrix.txt.gz\n",
            "ExpressionSet (storageMode: lockedEnvironment)\n",
            "assayData: 21727 features, 485 samples \n",
            "  element names: exprs \n",
            "protocolData: none\n",
            "phenoData\n",
            "  sampleNames: GSM1351309 GSM1351310 ... GSM1355987 (485 total)\n",
            "  varLabels: title geo_accession ... Sex:ch1 (46 total)\n",
            "  varMetadata: labelDescription\n",
            "featureData\n",
            "  featureNames: 7896740 7896742 ... 8180179 (21727 total)\n",
            "  fvarLabels: ID GB_LIST ... category (12 total)\n",
            "  fvarMetadata: Column Description labelDescription\n",
            "experimentData: use 'experimentData(object)'\n",
            "  pubMedIds: 24786080\n",
            "31541153 \n",
            "Annotation: GPL6244 \n",
            "\n"
          ]
        }
      ]
    },
    {
      "cell_type": "code",
      "source": [
        "# extract individual GSM entries \n",
        "gsmList_cd4 <-rownames(pData(gse_cd4[[1]])[2])\n",
        "gsmList_cd14 <-rownames(pData(gse_cd14[[1]])[2])\n",
        "\n",
        "# sanity check - number of samples \n",
        "# CD4 - 499\n",
        "# CD14 - 485\n",
        "cat(\"CD4 sample size\", length(gsmList_cd4), \"\\n\")\n",
        "cat(\"CD14 sample size\", length(gsmList_cd14))"
      ],
      "metadata": {
        "colab": {
          "base_uri": "https://localhost:8080/"
        },
        "id": "gIb8Mq3KJGym",
        "outputId": "daa653fd-289a-4b27-cc32-fb763ddac0ca"
      },
      "execution_count": null,
      "outputs": [
        {
          "output_type": "stream",
          "name": "stdout",
          "text": [
            "CD4 sample size 499 \n",
            "CD14 sample size 485"
          ]
        }
      ]
    },
    {
      "cell_type": "markdown",
      "source": [
        "## Data preprocessing\n",
        "- change format to match Variaton Partition input format\n",
        "- check missing values\n",
        "- make string variables consistent (metadata)\n",
        "- sanity checks "
      ],
      "metadata": {
        "id": "vbaXV4eMn6Pe"
      }
    },
    {
      "cell_type": "code",
      "source": [
        "# Data preprocessing functions \n",
        "\n",
        "# ExprMeta - extract gene expression and metadata dataframe from a list of GSM\n",
        "# input - gsmList \n",
        "# return - expression_df, metadata_df\n",
        "# required GEOquery\n",
        "\n",
        "ExprMeta <- function(gsmList) {\n",
        "  \n",
        "  result_expr <- data.frame()\n",
        "  result_meta <- data.frame()\n",
        "\n",
        "  for (i in 1:length(gsmList))\n",
        "  {\n",
        "    # get GSM\n",
        "    gsm <- getGEO(gsmList[i])\n",
        "\n",
        "    # expr data \n",
        "    expr_df <- data.frame(Table(gsm))\n",
        "    colnames(expr_df)[2] = gsmList[i]\n",
        "\n",
        "    if (i==1) {\n",
        "      result_expr <- expr_df\n",
        "    } else {\n",
        "      result_expr <- merge(result_expr, expr_df, by=\"ID_REF\", all=TRUE, no.dups=FALSE)\n",
        "    }\n",
        "\n",
        "    # metadata\n",
        "    # extract meta data from gsm \n",
        "    df <- data.frame(attributes(gsm)$header$characteristics_ch1)\n",
        "\n",
        "    #extract individual ID\n",
        "    ID <- gsub(\" \", \"\",attributes(gsm)$header$title)\n",
        "    ID <- gsub(\"\\\\..*\", \"\",ID)\n",
        "\n",
        "    meta_df <- data.frame(apply(df, 1, function(x) gsub(\".*:\",\"\",x)))\n",
        "    colnames(meta_df) <- gsmList[i]\n",
        "    row.names(meta_df) <- apply(df, 1, function(x) gsub(\":.*\",\"\",x))\n",
        "    meta_df <- t(meta_df)\n",
        "    meta_df <- cbind(meta_df, ID)\n",
        "\n",
        "    if (i==1)\n",
        "    {\n",
        "      result_meta <- meta_df\n",
        "    } else {\n",
        "      result_meta <- rbind(result_meta, meta_df)\n",
        "    }\n",
        "\n",
        "  }\n",
        "\n",
        "  return(list(result_expr, result_meta))\n",
        "  \n",
        "}\n",
        "\n",
        "# CheckNa - to check missing values \n",
        "# input - matrix \n",
        "# output - num na values\n",
        "CheckNa <- function(mat) {\n",
        "  sum(is.na(mat))\n",
        "}"
      ],
      "metadata": {
        "id": "LIb4v248s-7X"
      },
      "execution_count": null,
      "outputs": []
    },
    {
      "cell_type": "code",
      "source": [
        "# extract matrix of gene expr and metadata \n",
        "# cd4\n",
        "cd4 <- ExprMeta(gsmList_cd4)\n",
        "cd4_expr <- cd4[[1]]\n",
        "cd4_meta <- cd4[[2]]\n",
        "\n",
        "cd14 <- ExprMeta(gsmList_cd14)\n",
        "cd14_expr <- cd14[[1]]\n",
        "cd14_meta <- cd14[[2]]\n",
        "\n",
        "# sanity check - dimensions\n",
        "cat(dim(cd4_expr), dim(cd4_meta), \"\\n\")\n",
        "cat(dim(cd14_expr), dim(cd14_meta))\n",
        "\n",
        "# check missing values\n",
        "cat(\"num missing values\", CheckNa(cd4_expr), CheckNa(cd4_meta), CheckNa(cd14_expr), CheckNa(cd14_meta))"
      ],
      "metadata": {
        "id": "3-M_wQ0tC6Xx"
      },
      "execution_count": null,
      "outputs": []
    },
    {
      "cell_type": "code",
      "source": [
        "head(cd4_meta)\n",
        "head(cd14_meta)"
      ],
      "metadata": {
        "id": "ntIY10yHZBiH",
        "colab": {
          "base_uri": "https://localhost:8080/",
          "height": 1000
        },
        "outputId": "c94dad3e-78b5-49b2-d0ed-4bac5272851b"
      },
      "execution_count": null,
      "outputs": [
        {
          "output_type": "display_data",
          "data": {
            "text/html": [
              "<table class=\"dataframe\">\n",
              "<caption>A matrix: 6 × 9 of type chr</caption>\n",
              "<thead>\n",
              "\t<tr><th></th><th scope=col>age (yrs)</th><th scope=col>gender</th><th scope=col>cell type</th><th scope=col>batch</th><th scope=col>inclusion markers</th><th scope=col>exclusion markers</th><th scope=col>phenotype markers</th><th scope=col>separation method</th><th scope=col>ID</th></tr>\n",
              "</thead>\n",
              "<tbody>\n",
              "\t<tr><th scope=row>GSM1350856</th><td> 30</td><td> female</td><td> T4 Naive cells from human peripheral blood mononuclear cells (PBMCs)</td><td> 1</td><td> CD3+ CD4+ CD62L+</td><td> CD14- CD8- CD25-</td><td> CD3+ CD14- CD4+ CD8- CD62L+ CD25-</td><td> Aria Sorter</td><td>IGTB10  </td></tr>\n",
              "\t<tr><th scope=row>GSM1350857</th><td> 30</td><td> female</td><td> T4 Naive cells from human peripheral blood mononuclear cells (PBMCs)</td><td> 1</td><td> CD3+ CD4+ CD62L+</td><td> CD14- CD8- CD25-</td><td> CD3+ CD14- CD4+ CD8- CD62L+ CD25-</td><td> Aria Sorter</td><td>IGTB10  </td></tr>\n",
              "\t<tr><th scope=row>GSM1350858</th><td> 47</td><td> male  </td><td> T4 Naive cells from human peripheral blood mononuclear cells (PBMCs)</td><td> 1</td><td> CD3+ CD4+ CD62L+</td><td> CD14- CD8- CD25-</td><td> CD3+ CD14- CD4+ CD8- CD62L+ CD25-</td><td> Aria Sorter</td><td>IGTB100 </td></tr>\n",
              "\t<tr><th scope=row>GSM1350859</th><td> 46</td><td> female</td><td> T4 Naive cells from human peripheral blood mononuclear cells (PBMCs)</td><td> 4</td><td> CD3+ CD4+ CD62L+</td><td> CD14- CD8- CD25-</td><td> CD3+ CD14- CD4+ CD8- CD62L+ CD25-</td><td> Aria Sorter</td><td>IGTB1004</td></tr>\n",
              "\t<tr><th scope=row>GSM1350860</th><td> 42</td><td> male  </td><td> T4 Naive cells from human peripheral blood mononuclear cells (PBMCs)</td><td> 1</td><td> CD3+ CD4+ CD62L+</td><td> CD14- CD8- CD25-</td><td> CD3+ CD14- CD4+ CD8- CD62L+ CD25-</td><td> Aria Sorter</td><td>IGTB1007</td></tr>\n",
              "\t<tr><th scope=row>GSM1350861</th><td> 27</td><td> female</td><td> T4 Naive cells from human peripheral blood mononuclear cells (PBMCs)</td><td> 6</td><td> CD3+ CD4+ CD62L+</td><td> CD14- CD8- CD25-</td><td> CD3+ CD14- CD4+ CD8- CD62L+ CD25-</td><td> Aria Sorter</td><td>IGTB1009</td></tr>\n",
              "</tbody>\n",
              "</table>\n"
            ],
            "text/markdown": "\nA matrix: 6 × 9 of type chr\n\n| <!--/--> | age (yrs) | gender | cell type | batch | inclusion markers | exclusion markers | phenotype markers | separation method | ID |\n|---|---|---|---|---|---|---|---|---|---|\n| GSM1350856 |  30 |  female |  T4 Naive cells from human peripheral blood mononuclear cells (PBMCs) |  1 |  CD3+ CD4+ CD62L+ |  CD14- CD8- CD25- |  CD3+ CD14- CD4+ CD8- CD62L+ CD25- |  Aria Sorter | IGTB10   |\n| GSM1350857 |  30 |  female |  T4 Naive cells from human peripheral blood mononuclear cells (PBMCs) |  1 |  CD3+ CD4+ CD62L+ |  CD14- CD8- CD25- |  CD3+ CD14- CD4+ CD8- CD62L+ CD25- |  Aria Sorter | IGTB10   |\n| GSM1350858 |  47 |  male   |  T4 Naive cells from human peripheral blood mononuclear cells (PBMCs) |  1 |  CD3+ CD4+ CD62L+ |  CD14- CD8- CD25- |  CD3+ CD14- CD4+ CD8- CD62L+ CD25- |  Aria Sorter | IGTB100  |\n| GSM1350859 |  46 |  female |  T4 Naive cells from human peripheral blood mononuclear cells (PBMCs) |  4 |  CD3+ CD4+ CD62L+ |  CD14- CD8- CD25- |  CD3+ CD14- CD4+ CD8- CD62L+ CD25- |  Aria Sorter | IGTB1004 |\n| GSM1350860 |  42 |  male   |  T4 Naive cells from human peripheral blood mononuclear cells (PBMCs) |  1 |  CD3+ CD4+ CD62L+ |  CD14- CD8- CD25- |  CD3+ CD14- CD4+ CD8- CD62L+ CD25- |  Aria Sorter | IGTB1007 |\n| GSM1350861 |  27 |  female |  T4 Naive cells from human peripheral blood mononuclear cells (PBMCs) |  6 |  CD3+ CD4+ CD62L+ |  CD14- CD8- CD25- |  CD3+ CD14- CD4+ CD8- CD62L+ CD25- |  Aria Sorter | IGTB1009 |\n\n",
            "text/latex": "A matrix: 6 × 9 of type chr\n\\begin{tabular}{r|lllllllll}\n  & age (yrs) & gender & cell type & batch & inclusion markers & exclusion markers & phenotype markers & separation method & ID\\\\\n\\hline\n\tGSM1350856 &  30 &  female &  T4 Naive cells from human peripheral blood mononuclear cells (PBMCs) &  1 &  CD3+ CD4+ CD62L+ &  CD14- CD8- CD25- &  CD3+ CD14- CD4+ CD8- CD62L+ CD25- &  Aria Sorter & IGTB10  \\\\\n\tGSM1350857 &  30 &  female &  T4 Naive cells from human peripheral blood mononuclear cells (PBMCs) &  1 &  CD3+ CD4+ CD62L+ &  CD14- CD8- CD25- &  CD3+ CD14- CD4+ CD8- CD62L+ CD25- &  Aria Sorter & IGTB10  \\\\\n\tGSM1350858 &  47 &  male   &  T4 Naive cells from human peripheral blood mononuclear cells (PBMCs) &  1 &  CD3+ CD4+ CD62L+ &  CD14- CD8- CD25- &  CD3+ CD14- CD4+ CD8- CD62L+ CD25- &  Aria Sorter & IGTB100 \\\\\n\tGSM1350859 &  46 &  female &  T4 Naive cells from human peripheral blood mononuclear cells (PBMCs) &  4 &  CD3+ CD4+ CD62L+ &  CD14- CD8- CD25- &  CD3+ CD14- CD4+ CD8- CD62L+ CD25- &  Aria Sorter & IGTB1004\\\\\n\tGSM1350860 &  42 &  male   &  T4 Naive cells from human peripheral blood mononuclear cells (PBMCs) &  1 &  CD3+ CD4+ CD62L+ &  CD14- CD8- CD25- &  CD3+ CD14- CD4+ CD8- CD62L+ CD25- &  Aria Sorter & IGTB1007\\\\\n\tGSM1350861 &  27 &  female &  T4 Naive cells from human peripheral blood mononuclear cells (PBMCs) &  6 &  CD3+ CD4+ CD62L+ &  CD14- CD8- CD25- &  CD3+ CD14- CD4+ CD8- CD62L+ CD25- &  Aria Sorter & IGTB1009\\\\\n\\end{tabular}\n",
            "text/plain": [
              "           age (yrs) gender \n",
              "GSM1350856  30        female\n",
              "GSM1350857  30        female\n",
              "GSM1350858  47        male  \n",
              "GSM1350859  46        female\n",
              "GSM1350860  42        male  \n",
              "GSM1350861  27        female\n",
              "           cell type                                                            \n",
              "GSM1350856  T4 Naive cells from human peripheral blood mononuclear cells (PBMCs)\n",
              "GSM1350857  T4 Naive cells from human peripheral blood mononuclear cells (PBMCs)\n",
              "GSM1350858  T4 Naive cells from human peripheral blood mononuclear cells (PBMCs)\n",
              "GSM1350859  T4 Naive cells from human peripheral blood mononuclear cells (PBMCs)\n",
              "GSM1350860  T4 Naive cells from human peripheral blood mononuclear cells (PBMCs)\n",
              "GSM1350861  T4 Naive cells from human peripheral blood mononuclear cells (PBMCs)\n",
              "           batch inclusion markers exclusion markers\n",
              "GSM1350856  1     CD3+ CD4+ CD62L+  CD14- CD8- CD25-\n",
              "GSM1350857  1     CD3+ CD4+ CD62L+  CD14- CD8- CD25-\n",
              "GSM1350858  1     CD3+ CD4+ CD62L+  CD14- CD8- CD25-\n",
              "GSM1350859  4     CD3+ CD4+ CD62L+  CD14- CD8- CD25-\n",
              "GSM1350860  1     CD3+ CD4+ CD62L+  CD14- CD8- CD25-\n",
              "GSM1350861  6     CD3+ CD4+ CD62L+  CD14- CD8- CD25-\n",
              "           phenotype markers                  separation method ID      \n",
              "GSM1350856  CD3+ CD14- CD4+ CD8- CD62L+ CD25-  Aria Sorter      IGTB10  \n",
              "GSM1350857  CD3+ CD14- CD4+ CD8- CD62L+ CD25-  Aria Sorter      IGTB10  \n",
              "GSM1350858  CD3+ CD14- CD4+ CD8- CD62L+ CD25-  Aria Sorter      IGTB100 \n",
              "GSM1350859  CD3+ CD14- CD4+ CD8- CD62L+ CD25-  Aria Sorter      IGTB1004\n",
              "GSM1350860  CD3+ CD14- CD4+ CD8- CD62L+ CD25-  Aria Sorter      IGTB1007\n",
              "GSM1350861  CD3+ CD14- CD4+ CD8- CD62L+ CD25-  Aria Sorter      IGTB1009"
            ]
          },
          "metadata": {}
        },
        {
          "output_type": "display_data",
          "data": {
            "text/html": [
              "<table class=\"dataframe\">\n",
              "<caption>A matrix: 6 × 9 of type chr</caption>\n",
              "<thead>\n",
              "\t<tr><th></th><th scope=col>age (yrs)</th><th scope=col>Sex</th><th scope=col>cell type</th><th scope=col>batch</th><th scope=col>inclusion markers</th><th scope=col>exclusion markers</th><th scope=col>phenotype markers</th><th scope=col>separation method</th><th scope=col>ID</th></tr>\n",
              "</thead>\n",
              "<tbody>\n",
              "\t<tr><th scope=row>GSM1351309</th><td> 32</td><td> Female</td><td> monocytes from peripheral blood mononuclear cells (PBMCs)</td><td> 1</td><td> CD14+</td><td> CD3- CD16-</td><td> CD3- CD14+ CD16-</td><td> Aria Sorter</td><td>IGTB3 </td></tr>\n",
              "\t<tr><th scope=row>GSM1351310</th><td> 54</td><td> Female</td><td> monocytes from peripheral blood mononuclear cells (PBMCs)</td><td> 5</td><td> CD14+</td><td> CD3- CD16-</td><td> CD3- CD14+ CD16-</td><td> Aria Sorter</td><td>IGTB4 </td></tr>\n",
              "\t<tr><th scope=row>GSM1351311</th><td> 54</td><td> Female</td><td> monocytes from peripheral blood mononuclear cells (PBMCs)</td><td> 5</td><td> CD14+</td><td> CD3- CD16-</td><td> CD3- CD14+ CD16-</td><td> Aria Sorter</td><td>IGTB4 </td></tr>\n",
              "\t<tr><th scope=row>GSM1351312</th><td> 53</td><td> Female</td><td> monocytes from peripheral blood mononuclear cells (PBMCs)</td><td> 1</td><td> CD14+</td><td> CD3- CD16-</td><td> CD3- CD14+ CD16-</td><td> Aria Sorter</td><td>IGTB4 </td></tr>\n",
              "\t<tr><th scope=row>GSM1351313</th><td> 34</td><td> Female</td><td> monocytes from peripheral blood mononuclear cells (PBMCs)</td><td> 1</td><td> CD14+</td><td> CD3- CD16-</td><td> CD3- CD14+ CD16-</td><td> Aria Sorter</td><td>IGTB8 </td></tr>\n",
              "\t<tr><th scope=row>GSM1351314</th><td> 30</td><td> Female</td><td> monocytes from peripheral blood mononuclear cells (PBMCs)</td><td> 1</td><td> CD14+</td><td> CD3- CD16-</td><td> CD3- CD14+ CD16-</td><td> Aria Sorter</td><td>IGTB10</td></tr>\n",
              "</tbody>\n",
              "</table>\n"
            ],
            "text/markdown": "\nA matrix: 6 × 9 of type chr\n\n| <!--/--> | age (yrs) | Sex | cell type | batch | inclusion markers | exclusion markers | phenotype markers | separation method | ID |\n|---|---|---|---|---|---|---|---|---|---|\n| GSM1351309 |  32 |  Female |  monocytes from peripheral blood mononuclear cells (PBMCs) |  1 |  CD14+ |  CD3- CD16- |  CD3- CD14+ CD16- |  Aria Sorter | IGTB3  |\n| GSM1351310 |  54 |  Female |  monocytes from peripheral blood mononuclear cells (PBMCs) |  5 |  CD14+ |  CD3- CD16- |  CD3- CD14+ CD16- |  Aria Sorter | IGTB4  |\n| GSM1351311 |  54 |  Female |  monocytes from peripheral blood mononuclear cells (PBMCs) |  5 |  CD14+ |  CD3- CD16- |  CD3- CD14+ CD16- |  Aria Sorter | IGTB4  |\n| GSM1351312 |  53 |  Female |  monocytes from peripheral blood mononuclear cells (PBMCs) |  1 |  CD14+ |  CD3- CD16- |  CD3- CD14+ CD16- |  Aria Sorter | IGTB4  |\n| GSM1351313 |  34 |  Female |  monocytes from peripheral blood mononuclear cells (PBMCs) |  1 |  CD14+ |  CD3- CD16- |  CD3- CD14+ CD16- |  Aria Sorter | IGTB8  |\n| GSM1351314 |  30 |  Female |  monocytes from peripheral blood mononuclear cells (PBMCs) |  1 |  CD14+ |  CD3- CD16- |  CD3- CD14+ CD16- |  Aria Sorter | IGTB10 |\n\n",
            "text/latex": "A matrix: 6 × 9 of type chr\n\\begin{tabular}{r|lllllllll}\n  & age (yrs) & Sex & cell type & batch & inclusion markers & exclusion markers & phenotype markers & separation method & ID\\\\\n\\hline\n\tGSM1351309 &  32 &  Female &  monocytes from peripheral blood mononuclear cells (PBMCs) &  1 &  CD14+ &  CD3- CD16- &  CD3- CD14+ CD16- &  Aria Sorter & IGTB3 \\\\\n\tGSM1351310 &  54 &  Female &  monocytes from peripheral blood mononuclear cells (PBMCs) &  5 &  CD14+ &  CD3- CD16- &  CD3- CD14+ CD16- &  Aria Sorter & IGTB4 \\\\\n\tGSM1351311 &  54 &  Female &  monocytes from peripheral blood mononuclear cells (PBMCs) &  5 &  CD14+ &  CD3- CD16- &  CD3- CD14+ CD16- &  Aria Sorter & IGTB4 \\\\\n\tGSM1351312 &  53 &  Female &  monocytes from peripheral blood mononuclear cells (PBMCs) &  1 &  CD14+ &  CD3- CD16- &  CD3- CD14+ CD16- &  Aria Sorter & IGTB4 \\\\\n\tGSM1351313 &  34 &  Female &  monocytes from peripheral blood mononuclear cells (PBMCs) &  1 &  CD14+ &  CD3- CD16- &  CD3- CD14+ CD16- &  Aria Sorter & IGTB8 \\\\\n\tGSM1351314 &  30 &  Female &  monocytes from peripheral blood mononuclear cells (PBMCs) &  1 &  CD14+ &  CD3- CD16- &  CD3- CD14+ CD16- &  Aria Sorter & IGTB10\\\\\n\\end{tabular}\n",
            "text/plain": [
              "           age (yrs) Sex    \n",
              "GSM1351309  32        Female\n",
              "GSM1351310  54        Female\n",
              "GSM1351311  54        Female\n",
              "GSM1351312  53        Female\n",
              "GSM1351313  34        Female\n",
              "GSM1351314  30        Female\n",
              "           cell type                                                  batch\n",
              "GSM1351309  monocytes from peripheral blood mononuclear cells (PBMCs)  1   \n",
              "GSM1351310  monocytes from peripheral blood mononuclear cells (PBMCs)  5   \n",
              "GSM1351311  monocytes from peripheral blood mononuclear cells (PBMCs)  5   \n",
              "GSM1351312  monocytes from peripheral blood mononuclear cells (PBMCs)  1   \n",
              "GSM1351313  monocytes from peripheral blood mononuclear cells (PBMCs)  1   \n",
              "GSM1351314  monocytes from peripheral blood mononuclear cells (PBMCs)  1   \n",
              "           inclusion markers exclusion markers phenotype markers\n",
              "GSM1351309  CD14+             CD3- CD16-        CD3- CD14+ CD16-\n",
              "GSM1351310  CD14+             CD3- CD16-        CD3- CD14+ CD16-\n",
              "GSM1351311  CD14+             CD3- CD16-        CD3- CD14+ CD16-\n",
              "GSM1351312  CD14+             CD3- CD16-        CD3- CD14+ CD16-\n",
              "GSM1351313  CD14+             CD3- CD16-        CD3- CD14+ CD16-\n",
              "GSM1351314  CD14+             CD3- CD16-        CD3- CD14+ CD16-\n",
              "           separation method ID    \n",
              "GSM1351309  Aria Sorter      IGTB3 \n",
              "GSM1351310  Aria Sorter      IGTB4 \n",
              "GSM1351311  Aria Sorter      IGTB4 \n",
              "GSM1351312  Aria Sorter      IGTB4 \n",
              "GSM1351313  Aria Sorter      IGTB8 \n",
              "GSM1351314  Aria Sorter      IGTB10"
            ]
          },
          "metadata": {}
        }
      ]
    },
    {
      "cell_type": "code",
      "source": [
        "# sanity check string data - example possible case mismatch\n",
        "# examine range of unique values for each category\n",
        "for (i in 1:8){\n",
        "  print(unique(cd14_meta[,i]))\n",
        "}\n",
        "\n",
        "for (i in 1:8){\n",
        "  print(unique(cd4_meta[,i]))\n",
        "}"
      ],
      "metadata": {
        "colab": {
          "base_uri": "https://localhost:8080/"
        },
        "id": "H_tXwUhQM0-1",
        "outputId": "44dc6995-8e8d-44e5-86f9-20c4f0f59376"
      },
      "execution_count": null,
      "outputs": [
        {
          "output_type": "stream",
          "name": "stdout",
          "text": [
            " [1] \" 32\" \" 54\" \" 53\" \" 34\" \" 30\" \" 24\" \" 21\" \" 28\" \" 25\" \" 29\" \" 31\" \" 44\"\n",
            "[13] \" 38\" \" 47\" \" 51\" \" 20\" \" 27\" \" 49\" \" 26\" \" 37\" \" 22\" \" 48\" \" 36\" \" 45\"\n",
            "[25] \" 39\" \" 23\" \" 35\" \" 40\" \" 50\" \" 42\" \" 33\" \" 46\" \" 19\" \" 43\" \" 52\" \" 41\"\n",
            "[37] \" 18\"\n",
            "[1] \" Female\" \" Male\"  \n",
            "[1] \" monocytes from peripheral blood mononuclear cells (PBMCs)\"\n",
            "[1] \" 1\" \" 5\" \" 3\" \" 2\" \" 6\" \" 4\"\n",
            "[1] \" CD14+\"\n",
            "[1] \" CD3- CD16-\"\n",
            "[1] \" CD3- CD14+ CD16-\"\n",
            "[1] \" Aria Sorter\"\n",
            " [1] \" 30\" \" 47\" \" 46\" \" 42\" \" 27\" \" 20\" \" 49\" \" 23\" \" 36\" \" 43\" \" 40\" \" 19\"\n",
            "[13] \" 41\" \" 38\" \" 44\" \" 25\" \" 21\" \" 45\" \" 50\" \" 37\" \" 29\" \" 48\" \" 28\" \" 34\"\n",
            "[25] \" 26\" \" 51\" \" 24\" \" 22\" \" 32\" \" 35\" \" 18\" \" 31\" \" 33\" \" 56\" \" 9\"  \" 39\"\n",
            "[37] \" 53\" \" 54\" \" 52\"\n",
            "[1] \" female\" \" male\"   \" Male\"   \" Female\"\n",
            "[1] \" T4 Naive cells from human peripheral blood mononuclear cells (PBMCs)\"\n",
            "[1] \" 1\" \" 4\" \" 6\" \" 2\" \" 3\" \" 5\"\n",
            "[1] \" CD3+ CD4+ CD62L+\"\n",
            "[1] \" CD14- CD8- CD25-\"\n",
            "[1] \" CD3+ CD14- CD4+ CD8- CD62L+ CD25-\"\n",
            "[1] \" Aria Sorter\"\n"
          ]
        }
      ]
    },
    {
      "cell_type": "code",
      "source": [
        "# range of gene expression matrix values\n",
        "range(cd4_expr)\n",
        "range(cd14_expr)"
      ],
      "metadata": {
        "colab": {
          "base_uri": "https://localhost:8080/",
          "height": 52
        },
        "id": "_RKKHDbqSITE",
        "outputId": "5883c4b9-c19d-43c2-e41c-7ca15bb95c74"
      },
      "execution_count": null,
      "outputs": [
        {
          "output_type": "display_data",
          "data": {
            "text/html": [
              "<style>\n",
              ".list-inline {list-style: none; margin:0; padding: 0}\n",
              ".list-inline>li {display: inline-block}\n",
              ".list-inline>li:not(:last-child)::after {content: \"\\00b7\"; padding: 0 .5ex}\n",
              "</style>\n",
              "<ol class=list-inline><li>-1359.0454</li><li>8180179</li></ol>\n"
            ],
            "text/markdown": "1. -1359.0454\n2. 8180179\n\n\n",
            "text/latex": "\\begin{enumerate*}\n\\item -1359.0454\n\\item 8180179\n\\end{enumerate*}\n",
            "text/plain": [
              "[1]   -1359.045 8180179.000"
            ]
          },
          "metadata": {}
        },
        {
          "output_type": "display_data",
          "data": {
            "text/html": [
              "<style>\n",
              ".list-inline {list-style: none; margin:0; padding: 0}\n",
              ".list-inline>li {display: inline-block}\n",
              ".list-inline>li:not(:last-child)::after {content: \"\\00b7\"; padding: 0 .5ex}\n",
              "</style>\n",
              "<ol class=list-inline><li>-424.499</li><li>8180179</li></ol>\n"
            ],
            "text/markdown": "1. -424.499\n2. 8180179\n\n\n",
            "text/latex": "\\begin{enumerate*}\n\\item -424.499\n\\item 8180179\n\\end{enumerate*}\n",
            "text/plain": [
              "[1]    -424.499 8180179.000"
            ]
          },
          "metadata": {}
        }
      ]
    },
    {
      "cell_type": "code",
      "source": [
        "# change case mistmatch for meta \n",
        "cd4_meta <- tolower(cd4_meta)\n",
        "cd14_meta <- tolower(cd14_meta)\n",
        "\n",
        "# sanity check - check if mistmatch resolved\n",
        "for (i in 1:8){\n",
        "  print(unique(cd14_meta[,i]))\n",
        "}\n",
        "\n",
        "for (i in 1:8){\n",
        "  print(unique(cd4_meta[,i]))\n",
        "}"
      ],
      "metadata": {
        "colab": {
          "base_uri": "https://localhost:8080/"
        },
        "id": "mh9j8JOg-CpN",
        "outputId": "f37d9b0a-08fa-4928-813d-54241e71341c"
      },
      "execution_count": null,
      "outputs": [
        {
          "output_type": "stream",
          "name": "stdout",
          "text": [
            " [1] \" 32\" \" 54\" \" 53\" \" 34\" \" 30\" \" 24\" \" 21\" \" 28\" \" 25\" \" 29\" \" 31\" \" 44\"\n",
            "[13] \" 38\" \" 47\" \" 51\" \" 20\" \" 27\" \" 49\" \" 26\" \" 37\" \" 22\" \" 48\" \" 36\" \" 45\"\n",
            "[25] \" 39\" \" 23\" \" 35\" \" 40\" \" 50\" \" 42\" \" 33\" \" 46\" \" 19\" \" 43\" \" 52\" \" 41\"\n",
            "[37] \" 18\"\n",
            "[1] \" female\" \" male\"  \n",
            "[1] \" monocytes from peripheral blood mononuclear cells (pbmcs)\"\n",
            "[1] \" 1\" \" 5\" \" 3\" \" 2\" \" 6\" \" 4\"\n",
            "[1] \" cd14+\"\n",
            "[1] \" cd3- cd16-\"\n",
            "[1] \" cd3- cd14+ cd16-\"\n",
            "[1] \" aria sorter\"\n",
            " [1] \" 30\" \" 47\" \" 46\" \" 42\" \" 27\" \" 20\" \" 49\" \" 23\" \" 36\" \" 43\" \" 40\" \" 19\"\n",
            "[13] \" 41\" \" 38\" \" 44\" \" 25\" \" 21\" \" 45\" \" 50\" \" 37\" \" 29\" \" 48\" \" 28\" \" 34\"\n",
            "[25] \" 26\" \" 51\" \" 24\" \" 22\" \" 32\" \" 35\" \" 18\" \" 31\" \" 33\" \" 56\" \" 9\"  \" 39\"\n",
            "[37] \" 53\" \" 54\" \" 52\"\n",
            "[1] \" female\" \" male\"  \n",
            "[1] \" t4 naive cells from human peripheral blood mononuclear cells (pbmcs)\"\n",
            "[1] \" 1\" \" 4\" \" 6\" \" 2\" \" 3\" \" 5\"\n",
            "[1] \" cd3+ cd4+ cd62l+\"\n",
            "[1] \" cd14- cd8- cd25-\"\n",
            "[1] \" cd3+ cd14- cd4+ cd8- cd62l+ cd25-\"\n",
            "[1] \" aria sorter\"\n"
          ]
        }
      ]
    },
    {
      "cell_type": "code",
      "source": [
        "# check categorical variable names of two datasets \n",
        "colnames(cd4_meta)\n",
        "colnames(cd14_meta)\n",
        "\n",
        "# change column name so both datasets match\n",
        "colnames(cd14_meta) <- colnames(cd4_meta)\n",
        "\n",
        "#sanity check \n",
        "colnames(cd4_meta)\n",
        "colnames(cd14_meta)\n"
      ],
      "metadata": {
        "colab": {
          "base_uri": "https://localhost:8080/",
          "height": 86
        },
        "id": "KeaMZ0kUQ60s",
        "outputId": "2d311f78-6c80-465d-fc0b-b0fe3a18069b"
      },
      "execution_count": null,
      "outputs": [
        {
          "output_type": "display_data",
          "data": {
            "text/html": [
              "<style>\n",
              ".list-inline {list-style: none; margin:0; padding: 0}\n",
              ".list-inline>li {display: inline-block}\n",
              ".list-inline>li:not(:last-child)::after {content: \"\\00b7\"; padding: 0 .5ex}\n",
              "</style>\n",
              "<ol class=list-inline><li>'age (yrs)'</li><li>'gender'</li><li>'cell type'</li><li>'batch'</li><li>'inclusion markers'</li><li>'exclusion markers'</li><li>'phenotype markers'</li><li>'separation method'</li><li>'ID'</li></ol>\n"
            ],
            "text/markdown": "1. 'age (yrs)'\n2. 'gender'\n3. 'cell type'\n4. 'batch'\n5. 'inclusion markers'\n6. 'exclusion markers'\n7. 'phenotype markers'\n8. 'separation method'\n9. 'ID'\n\n\n",
            "text/latex": "\\begin{enumerate*}\n\\item 'age (yrs)'\n\\item 'gender'\n\\item 'cell type'\n\\item 'batch'\n\\item 'inclusion markers'\n\\item 'exclusion markers'\n\\item 'phenotype markers'\n\\item 'separation method'\n\\item 'ID'\n\\end{enumerate*}\n",
            "text/plain": [
              "[1] \"age (yrs)\"         \"gender\"            \"cell type\"        \n",
              "[4] \"batch\"             \"inclusion markers\" \"exclusion markers\"\n",
              "[7] \"phenotype markers\" \"separation method\" \"ID\"               "
            ]
          },
          "metadata": {}
        },
        {
          "output_type": "display_data",
          "data": {
            "text/html": [
              "<style>\n",
              ".list-inline {list-style: none; margin:0; padding: 0}\n",
              ".list-inline>li {display: inline-block}\n",
              ".list-inline>li:not(:last-child)::after {content: \"\\00b7\"; padding: 0 .5ex}\n",
              "</style>\n",
              "<ol class=list-inline><li>'age (yrs)'</li><li>'Sex'</li><li>'cell type'</li><li>'batch'</li><li>'inclusion markers'</li><li>'exclusion markers'</li><li>'phenotype markers'</li><li>'separation method'</li><li>'ID'</li></ol>\n"
            ],
            "text/markdown": "1. 'age (yrs)'\n2. 'Sex'\n3. 'cell type'\n4. 'batch'\n5. 'inclusion markers'\n6. 'exclusion markers'\n7. 'phenotype markers'\n8. 'separation method'\n9. 'ID'\n\n\n",
            "text/latex": "\\begin{enumerate*}\n\\item 'age (yrs)'\n\\item 'Sex'\n\\item 'cell type'\n\\item 'batch'\n\\item 'inclusion markers'\n\\item 'exclusion markers'\n\\item 'phenotype markers'\n\\item 'separation method'\n\\item 'ID'\n\\end{enumerate*}\n",
            "text/plain": [
              "[1] \"age (yrs)\"         \"Sex\"               \"cell type\"        \n",
              "[4] \"batch\"             \"inclusion markers\" \"exclusion markers\"\n",
              "[7] \"phenotype markers\" \"separation method\" \"ID\"               "
            ]
          },
          "metadata": {}
        },
        {
          "output_type": "display_data",
          "data": {
            "text/html": [
              "<style>\n",
              ".list-inline {list-style: none; margin:0; padding: 0}\n",
              ".list-inline>li {display: inline-block}\n",
              ".list-inline>li:not(:last-child)::after {content: \"\\00b7\"; padding: 0 .5ex}\n",
              "</style>\n",
              "<ol class=list-inline><li>'age (yrs)'</li><li>'gender'</li><li>'cell type'</li><li>'batch'</li><li>'inclusion markers'</li><li>'exclusion markers'</li><li>'phenotype markers'</li><li>'separation method'</li><li>'ID'</li></ol>\n"
            ],
            "text/markdown": "1. 'age (yrs)'\n2. 'gender'\n3. 'cell type'\n4. 'batch'\n5. 'inclusion markers'\n6. 'exclusion markers'\n7. 'phenotype markers'\n8. 'separation method'\n9. 'ID'\n\n\n",
            "text/latex": "\\begin{enumerate*}\n\\item 'age (yrs)'\n\\item 'gender'\n\\item 'cell type'\n\\item 'batch'\n\\item 'inclusion markers'\n\\item 'exclusion markers'\n\\item 'phenotype markers'\n\\item 'separation method'\n\\item 'ID'\n\\end{enumerate*}\n",
            "text/plain": [
              "[1] \"age (yrs)\"         \"gender\"            \"cell type\"        \n",
              "[4] \"batch\"             \"inclusion markers\" \"exclusion markers\"\n",
              "[7] \"phenotype markers\" \"separation method\" \"ID\"               "
            ]
          },
          "metadata": {}
        },
        {
          "output_type": "display_data",
          "data": {
            "text/html": [
              "<style>\n",
              ".list-inline {list-style: none; margin:0; padding: 0}\n",
              ".list-inline>li {display: inline-block}\n",
              ".list-inline>li:not(:last-child)::after {content: \"\\00b7\"; padding: 0 .5ex}\n",
              "</style>\n",
              "<ol class=list-inline><li>'age (yrs)'</li><li>'gender'</li><li>'cell type'</li><li>'batch'</li><li>'inclusion markers'</li><li>'exclusion markers'</li><li>'phenotype markers'</li><li>'separation method'</li><li>'ID'</li></ol>\n"
            ],
            "text/markdown": "1. 'age (yrs)'\n2. 'gender'\n3. 'cell type'\n4. 'batch'\n5. 'inclusion markers'\n6. 'exclusion markers'\n7. 'phenotype markers'\n8. 'separation method'\n9. 'ID'\n\n\n",
            "text/latex": "\\begin{enumerate*}\n\\item 'age (yrs)'\n\\item 'gender'\n\\item 'cell type'\n\\item 'batch'\n\\item 'inclusion markers'\n\\item 'exclusion markers'\n\\item 'phenotype markers'\n\\item 'separation method'\n\\item 'ID'\n\\end{enumerate*}\n",
            "text/plain": [
              "[1] \"age (yrs)\"         \"gender\"            \"cell type\"        \n",
              "[4] \"batch\"             \"inclusion markers\" \"exclusion markers\"\n",
              "[7] \"phenotype markers\" \"separation method\" \"ID\"               "
            ]
          },
          "metadata": {}
        }
      ]
    },
    {
      "cell_type": "code",
      "source": [
        "# check that gene ID's are identical between two datasets\n",
        "(nrow(cd4_expr))\n",
        "sum(rownames(cd4_expr) == rownames(cd14_expr))"
      ],
      "metadata": {
        "colab": {
          "base_uri": "https://localhost:8080/",
          "height": 52
        },
        "id": "ZXCwQzvn_TVC",
        "outputId": "0646fd91-f548-48de-80fd-1c66faa22656"
      },
      "execution_count": null,
      "outputs": [
        {
          "output_type": "display_data",
          "data": {
            "text/html": [
              "21727"
            ],
            "text/markdown": "21727",
            "text/latex": "21727",
            "text/plain": [
              "[1] 21727"
            ]
          },
          "metadata": {}
        },
        {
          "output_type": "display_data",
          "data": {
            "text/html": [
              "21727"
            ],
            "text/markdown": "21727",
            "text/latex": "21727",
            "text/plain": [
              "[1] 21727"
            ]
          },
          "metadata": {}
        }
      ]
    },
    {
      "cell_type": "code",
      "source": [
        "# merge to datasets \n",
        "# check if properly merged - dimension loss check \n",
        "expr_matrix <- cbind(cd4_expr, cd14_expr)\n",
        "meta_matrix <- rbind(cd4_meta, cd14_meta)\n",
        "\n",
        "# change format to match var partition input \n",
        "expr <- expr_matrix[,-1]\n",
        "rownames(expr) <- expr_matrix[,1]\n",
        "expr_matrix <- data.matrix(expr)\n",
        "\n",
        "expr_matrix = subset(expr_matrix, select = -ID_REF )\n",
        "setdiff(colnames(expr_matrix), rownames(meta_matrix))\n",
        "\n",
        "dim(expr_matrix)\n",
        "dim(meta_matrix)"
      ],
      "metadata": {
        "colab": {
          "base_uri": "https://localhost:8080/",
          "height": 52
        },
        "id": "RjINecuC_3lt",
        "outputId": "2f8fca2f-6094-4df1-d123-203c908da003"
      },
      "execution_count": null,
      "outputs": [
        {
          "output_type": "display_data",
          "data": {
            "text/html": [],
            "text/markdown": "",
            "text/latex": "",
            "text/plain": [
              "character(0)"
            ]
          },
          "metadata": {}
        },
        {
          "output_type": "display_data",
          "data": {
            "text/html": [
              "<style>\n",
              ".list-inline {list-style: none; margin:0; padding: 0}\n",
              ".list-inline>li {display: inline-block}\n",
              ".list-inline>li:not(:last-child)::after {content: \"\\00b7\"; padding: 0 .5ex}\n",
              "</style>\n",
              "<ol class=list-inline><li>21727</li><li>984</li></ol>\n"
            ],
            "text/markdown": "1. 21727\n2. 984\n\n\n",
            "text/latex": "\\begin{enumerate*}\n\\item 21727\n\\item 984\n\\end{enumerate*}\n",
            "text/plain": [
              "[1] 21727   984"
            ]
          },
          "metadata": {}
        },
        {
          "output_type": "display_data",
          "data": {
            "text/html": [
              "<style>\n",
              ".list-inline {list-style: none; margin:0; padding: 0}\n",
              ".list-inline>li {display: inline-block}\n",
              ".list-inline>li:not(:last-child)::after {content: \"\\00b7\"; padding: 0 .5ex}\n",
              "</style>\n",
              "<ol class=list-inline><li>984</li><li>9</li></ol>\n"
            ],
            "text/markdown": "1. 984\n2. 9\n\n\n",
            "text/latex": "\\begin{enumerate*}\n\\item 984\n\\item 9\n\\end{enumerate*}\n",
            "text/plain": [
              "[1] 984   9"
            ]
          },
          "metadata": {}
        }
      ]
    },
    {
      "cell_type": "code",
      "source": [
        "# remove redundant features from metadata\n",
        "meta_matrix = subset(meta_matrix, select = c('age (yrs)','gender','cell type','batch','ID'))\n",
        "\n",
        "# rewrite colnames of metadata\n",
        "colnames(meta_matrix) <- c(\"age\", \"gender\", \"cell_type\", \"batch\",\"individual\")\n",
        "dim(meta_matrix)\n",
        "meta_matrix <- data.frame(meta_matrix)"
      ],
      "metadata": {
        "id": "s0kk389cFBKK",
        "colab": {
          "base_uri": "https://localhost:8080/",
          "height": 34
        },
        "outputId": "521dfac7-ddb0-4920-e4c6-8d5a2739e76e"
      },
      "execution_count": null,
      "outputs": [
        {
          "output_type": "display_data",
          "data": {
            "text/html": [
              "<style>\n",
              ".list-inline {list-style: none; margin:0; padding: 0}\n",
              ".list-inline>li {display: inline-block}\n",
              ".list-inline>li:not(:last-child)::after {content: \"\\00b7\"; padding: 0 .5ex}\n",
              "</style>\n",
              "<ol class=list-inline><li>984</li><li>5</li></ol>\n"
            ],
            "text/markdown": "1. 984\n2. 5\n\n\n",
            "text/latex": "\\begin{enumerate*}\n\\item 984\n\\item 5\n\\end{enumerate*}\n",
            "text/plain": [
              "[1] 984   5"
            ]
          },
          "metadata": {}
        }
      ]
    },
    {
      "cell_type": "code",
      "source": [
        "meta_matrix"
      ],
      "metadata": {
        "colab": {
          "base_uri": "https://localhost:8080/",
          "height": 1000
        },
        "id": "YJgjYwC3v1GH",
        "outputId": "ecaca7e2-b94c-41ea-e49d-65b1f76209cb"
      },
      "execution_count": null,
      "outputs": [
        {
          "output_type": "display_data",
          "data": {
            "text/html": [
              "<table class=\"dataframe\">\n",
              "<caption>A data.frame: 984 × 5</caption>\n",
              "<thead>\n",
              "\t<tr><th></th><th scope=col>age</th><th scope=col>gender</th><th scope=col>cell_type</th><th scope=col>batch</th><th scope=col>individual</th></tr>\n",
              "\t<tr><th></th><th scope=col>&lt;chr&gt;</th><th scope=col>&lt;chr&gt;</th><th scope=col>&lt;chr&gt;</th><th scope=col>&lt;chr&gt;</th><th scope=col>&lt;chr&gt;</th></tr>\n",
              "</thead>\n",
              "<tbody>\n",
              "\t<tr><th scope=row>GSM1350856</th><td> 30</td><td> female</td><td> t4 naive cells from human peripheral blood mononuclear cells (pbmcs)</td><td> 1</td><td>igtb10  </td></tr>\n",
              "\t<tr><th scope=row>GSM1350857</th><td> 30</td><td> female</td><td> t4 naive cells from human peripheral blood mononuclear cells (pbmcs)</td><td> 1</td><td>igtb10  </td></tr>\n",
              "\t<tr><th scope=row>GSM1350858</th><td> 47</td><td> male  </td><td> t4 naive cells from human peripheral blood mononuclear cells (pbmcs)</td><td> 1</td><td>igtb100 </td></tr>\n",
              "\t<tr><th scope=row>GSM1350859</th><td> 46</td><td> female</td><td> t4 naive cells from human peripheral blood mononuclear cells (pbmcs)</td><td> 4</td><td>igtb1004</td></tr>\n",
              "\t<tr><th scope=row>GSM1350860</th><td> 42</td><td> male  </td><td> t4 naive cells from human peripheral blood mononuclear cells (pbmcs)</td><td> 1</td><td>igtb1007</td></tr>\n",
              "\t<tr><th scope=row>GSM1350861</th><td> 27</td><td> female</td><td> t4 naive cells from human peripheral blood mononuclear cells (pbmcs)</td><td> 6</td><td>igtb1009</td></tr>\n",
              "\t<tr><th scope=row>GSM1350862</th><td> 20</td><td> female</td><td> t4 naive cells from human peripheral blood mononuclear cells (pbmcs)</td><td> 1</td><td>igtb1016</td></tr>\n",
              "\t<tr><th scope=row>GSM1350863</th><td> 49</td><td> female</td><td> t4 naive cells from human peripheral blood mononuclear cells (pbmcs)</td><td> 1</td><td>igtb1018</td></tr>\n",
              "\t<tr><th scope=row>GSM1350864</th><td> 23</td><td> female</td><td> t4 naive cells from human peripheral blood mononuclear cells (pbmcs)</td><td> 1</td><td>igtb1020</td></tr>\n",
              "\t<tr><th scope=row>GSM1350865</th><td> 36</td><td> male  </td><td> t4 naive cells from human peripheral blood mononuclear cells (pbmcs)</td><td> 4</td><td>igtb1021</td></tr>\n",
              "\t<tr><th scope=row>GSM1350866</th><td> 36</td><td> male  </td><td> t4 naive cells from human peripheral blood mononuclear cells (pbmcs)</td><td> 6</td><td>igtb1021</td></tr>\n",
              "\t<tr><th scope=row>GSM1350867</th><td> 23</td><td> female</td><td> t4 naive cells from human peripheral blood mononuclear cells (pbmcs)</td><td> 6</td><td>igtb1026</td></tr>\n",
              "\t<tr><th scope=row>GSM1350868</th><td> 43</td><td> male  </td><td> t4 naive cells from human peripheral blood mononuclear cells (pbmcs)</td><td> 2</td><td>igtb1029</td></tr>\n",
              "\t<tr><th scope=row>GSM1350869</th><td> 40</td><td> male  </td><td> t4 naive cells from human peripheral blood mononuclear cells (pbmcs)</td><td> 1</td><td>igtb1030</td></tr>\n",
              "\t<tr><th scope=row>GSM1350870</th><td> 19</td><td> female</td><td> t4 naive cells from human peripheral blood mononuclear cells (pbmcs)</td><td> 2</td><td>igtb1032</td></tr>\n",
              "\t<tr><th scope=row>GSM1350871</th><td> 23</td><td> female</td><td> t4 naive cells from human peripheral blood mononuclear cells (pbmcs)</td><td> 2</td><td>igtb1034</td></tr>\n",
              "\t<tr><th scope=row>GSM1350872</th><td> 20</td><td> male  </td><td> t4 naive cells from human peripheral blood mononuclear cells (pbmcs)</td><td> 2</td><td>igtb1037</td></tr>\n",
              "\t<tr><th scope=row>GSM1350873</th><td> 20</td><td> male  </td><td> t4 naive cells from human peripheral blood mononuclear cells (pbmcs)</td><td> 4</td><td>igtb1037</td></tr>\n",
              "\t<tr><th scope=row>GSM1350874</th><td> 41</td><td> female</td><td> t4 naive cells from human peripheral blood mononuclear cells (pbmcs)</td><td> 1</td><td>igtb1038</td></tr>\n",
              "\t<tr><th scope=row>GSM1350875</th><td> 43</td><td> male  </td><td> t4 naive cells from human peripheral blood mononuclear cells (pbmcs)</td><td> 2</td><td>igtb1042</td></tr>\n",
              "\t<tr><th scope=row>GSM1350876</th><td> 40</td><td> female</td><td> t4 naive cells from human peripheral blood mononuclear cells (pbmcs)</td><td> 6</td><td>igtb1052</td></tr>\n",
              "\t<tr><th scope=row>GSM1350877</th><td> 46</td><td> female</td><td> t4 naive cells from human peripheral blood mononuclear cells (pbmcs)</td><td> 4</td><td>igtb1056</td></tr>\n",
              "\t<tr><th scope=row>GSM1350878</th><td> 47</td><td> female</td><td> t4 naive cells from human peripheral blood mononuclear cells (pbmcs)</td><td> 2</td><td>igtb1057</td></tr>\n",
              "\t<tr><th scope=row>GSM1350879</th><td> 47</td><td> female</td><td> t4 naive cells from human peripheral blood mononuclear cells (pbmcs)</td><td> 4</td><td>igtb1057</td></tr>\n",
              "\t<tr><th scope=row>GSM1350880</th><td> 38</td><td> male  </td><td> t4 naive cells from human peripheral blood mononuclear cells (pbmcs)</td><td> 2</td><td>igtb1059</td></tr>\n",
              "\t<tr><th scope=row>GSM1350881</th><td> 44</td><td> male  </td><td> t4 naive cells from human peripheral blood mononuclear cells (pbmcs)</td><td> 2</td><td>igtb1060</td></tr>\n",
              "\t<tr><th scope=row>GSM1350882</th><td> 27</td><td> female</td><td> t4 naive cells from human peripheral blood mononuclear cells (pbmcs)</td><td> 3</td><td>igtb1066</td></tr>\n",
              "\t<tr><th scope=row>GSM1350883</th><td> 46</td><td> male  </td><td> t4 naive cells from human peripheral blood mononuclear cells (pbmcs)</td><td> 1</td><td>igtb1067</td></tr>\n",
              "\t<tr><th scope=row>GSM1350884</th><td> 20</td><td> male  </td><td> t4 naive cells from human peripheral blood mononuclear cells (pbmcs)</td><td> 1</td><td>igtb107 </td></tr>\n",
              "\t<tr><th scope=row>GSM1350885</th><td> 20</td><td> male  </td><td> t4 naive cells from human peripheral blood mononuclear cells (pbmcs)</td><td> 6</td><td>igtb107 </td></tr>\n",
              "\t<tr><th scope=row>⋮</th><td>⋮</td><td>⋮</td><td>⋮</td><td>⋮</td><td>⋮</td></tr>\n",
              "\t<tr><th scope=row>GSM1355958</th><td> 34</td><td> male  </td><td> monocytes from peripheral blood mononuclear cells (pbmcs)</td><td> 1</td><td>igtb995 </td></tr>\n",
              "\t<tr><th scope=row>GSM1355959</th><td> 20</td><td> female</td><td> monocytes from peripheral blood mononuclear cells (pbmcs)</td><td> 2</td><td>igtb1017</td></tr>\n",
              "\t<tr><th scope=row>GSM1355960</th><td> 20</td><td> female</td><td> monocytes from peripheral blood mononuclear cells (pbmcs)</td><td> 2</td><td>igtb1031</td></tr>\n",
              "\t<tr><th scope=row>GSM1355961</th><td> 22</td><td> female</td><td> monocytes from peripheral blood mononuclear cells (pbmcs)</td><td> 3</td><td>igtb1047</td></tr>\n",
              "\t<tr><th scope=row>GSM1355962</th><td> 29</td><td> female</td><td> monocytes from peripheral blood mononuclear cells (pbmcs)</td><td> 3</td><td>igtb1048</td></tr>\n",
              "\t<tr><th scope=row>GSM1355963</th><td> 30</td><td> male  </td><td> monocytes from peripheral blood mononuclear cells (pbmcs)</td><td> 3</td><td>igtb1090</td></tr>\n",
              "\t<tr><th scope=row>GSM1355964</th><td> 30</td><td> male  </td><td> monocytes from peripheral blood mononuclear cells (pbmcs)</td><td> 4</td><td>igtb1090</td></tr>\n",
              "\t<tr><th scope=row>GSM1355965</th><td> 31</td><td> female</td><td> monocytes from peripheral blood mononuclear cells (pbmcs)</td><td> 4</td><td>igtb1117</td></tr>\n",
              "\t<tr><th scope=row>GSM1355966</th><td> 37</td><td> male  </td><td> monocytes from peripheral blood mononuclear cells (pbmcs)</td><td> 3</td><td>igtb1153</td></tr>\n",
              "\t<tr><th scope=row>GSM1355967</th><td> 21</td><td> female</td><td> monocytes from peripheral blood mononuclear cells (pbmcs)</td><td> 3</td><td>igtb1178</td></tr>\n",
              "\t<tr><th scope=row>GSM1355968</th><td> 22</td><td> female</td><td> monocytes from peripheral blood mononuclear cells (pbmcs)</td><td> 4</td><td>igtb1210</td></tr>\n",
              "\t<tr><th scope=row>GSM1355969</th><td> 26</td><td> female</td><td> monocytes from peripheral blood mononuclear cells (pbmcs)</td><td> 4</td><td>igtb1214</td></tr>\n",
              "\t<tr><th scope=row>GSM1355970</th><td> 30</td><td> female</td><td> monocytes from peripheral blood mononuclear cells (pbmcs)</td><td> 4</td><td>igtb1218</td></tr>\n",
              "\t<tr><th scope=row>GSM1355971</th><td> 42</td><td> male  </td><td> monocytes from peripheral blood mononuclear cells (pbmcs)</td><td> 3</td><td>igtb1233</td></tr>\n",
              "\t<tr><th scope=row>GSM1355972</th><td> 19</td><td> male  </td><td> monocytes from peripheral blood mononuclear cells (pbmcs)</td><td> 3</td><td>igtb1238</td></tr>\n",
              "\t<tr><th scope=row>GSM1355973</th><td> 24</td><td> female</td><td> monocytes from peripheral blood mononuclear cells (pbmcs)</td><td> 3</td><td>igtb1249</td></tr>\n",
              "\t<tr><th scope=row>GSM1355974</th><td> 23</td><td> female</td><td> monocytes from peripheral blood mononuclear cells (pbmcs)</td><td> 3</td><td>igtb1253</td></tr>\n",
              "\t<tr><th scope=row>GSM1355975</th><td> 28</td><td> female</td><td> monocytes from peripheral blood mononuclear cells (pbmcs)</td><td> 4</td><td>igtb1262</td></tr>\n",
              "\t<tr><th scope=row>GSM1355976</th><td> 19</td><td> male  </td><td> monocytes from peripheral blood mononuclear cells (pbmcs)</td><td> 5</td><td>igtb1330</td></tr>\n",
              "\t<tr><th scope=row>GSM1355977</th><td> 38</td><td> male  </td><td> monocytes from peripheral blood mononuclear cells (pbmcs)</td><td> 4</td><td>igtb1386</td></tr>\n",
              "\t<tr><th scope=row>GSM1355978</th><td> 20</td><td> female</td><td> monocytes from peripheral blood mononuclear cells (pbmcs)</td><td> 4</td><td>igtb1387</td></tr>\n",
              "\t<tr><th scope=row>GSM1355979</th><td> 36</td><td> female</td><td> monocytes from peripheral blood mononuclear cells (pbmcs)</td><td> 4</td><td>igtb1388</td></tr>\n",
              "\t<tr><th scope=row>GSM1355980</th><td> 35</td><td> male  </td><td> monocytes from peripheral blood mononuclear cells (pbmcs)</td><td> 6</td><td>igtb1389</td></tr>\n",
              "\t<tr><th scope=row>GSM1355981</th><td> 41</td><td> male  </td><td> monocytes from peripheral blood mononuclear cells (pbmcs)</td><td> 5</td><td>igtb1501</td></tr>\n",
              "\t<tr><th scope=row>GSM1355982</th><td> 21</td><td> male  </td><td> monocytes from peripheral blood mononuclear cells (pbmcs)</td><td> 6</td><td>igtb1528</td></tr>\n",
              "\t<tr><th scope=row>GSM1355983</th><td> 34</td><td> male  </td><td> monocytes from peripheral blood mononuclear cells (pbmcs)</td><td> 5</td><td>igtb1530</td></tr>\n",
              "\t<tr><th scope=row>GSM1355984</th><td> 22</td><td> female</td><td> monocytes from peripheral blood mononuclear cells (pbmcs)</td><td> 4</td><td>igtb1593</td></tr>\n",
              "\t<tr><th scope=row>GSM1355985</th><td> 28</td><td> male  </td><td> monocytes from peripheral blood mononuclear cells (pbmcs)</td><td> 5</td><td>igtb1625</td></tr>\n",
              "\t<tr><th scope=row>GSM1355986</th><td> 24</td><td> female</td><td> monocytes from peripheral blood mononuclear cells (pbmcs)</td><td> 6</td><td>igtb1672</td></tr>\n",
              "\t<tr><th scope=row>GSM1355987</th><td> 24</td><td> female</td><td> monocytes from peripheral blood mononuclear cells (pbmcs)</td><td> 6</td><td>igtb1672</td></tr>\n",
              "</tbody>\n",
              "</table>\n"
            ],
            "text/markdown": "\nA data.frame: 984 × 5\n\n| <!--/--> | age &lt;chr&gt; | gender &lt;chr&gt; | cell_type &lt;chr&gt; | batch &lt;chr&gt; | individual &lt;chr&gt; |\n|---|---|---|---|---|---|\n| GSM1350856 |  30 |  female |  t4 naive cells from human peripheral blood mononuclear cells (pbmcs) |  1 | igtb10   |\n| GSM1350857 |  30 |  female |  t4 naive cells from human peripheral blood mononuclear cells (pbmcs) |  1 | igtb10   |\n| GSM1350858 |  47 |  male   |  t4 naive cells from human peripheral blood mononuclear cells (pbmcs) |  1 | igtb100  |\n| GSM1350859 |  46 |  female |  t4 naive cells from human peripheral blood mononuclear cells (pbmcs) |  4 | igtb1004 |\n| GSM1350860 |  42 |  male   |  t4 naive cells from human peripheral blood mononuclear cells (pbmcs) |  1 | igtb1007 |\n| GSM1350861 |  27 |  female |  t4 naive cells from human peripheral blood mononuclear cells (pbmcs) |  6 | igtb1009 |\n| GSM1350862 |  20 |  female |  t4 naive cells from human peripheral blood mononuclear cells (pbmcs) |  1 | igtb1016 |\n| GSM1350863 |  49 |  female |  t4 naive cells from human peripheral blood mononuclear cells (pbmcs) |  1 | igtb1018 |\n| GSM1350864 |  23 |  female |  t4 naive cells from human peripheral blood mononuclear cells (pbmcs) |  1 | igtb1020 |\n| GSM1350865 |  36 |  male   |  t4 naive cells from human peripheral blood mononuclear cells (pbmcs) |  4 | igtb1021 |\n| GSM1350866 |  36 |  male   |  t4 naive cells from human peripheral blood mononuclear cells (pbmcs) |  6 | igtb1021 |\n| GSM1350867 |  23 |  female |  t4 naive cells from human peripheral blood mononuclear cells (pbmcs) |  6 | igtb1026 |\n| GSM1350868 |  43 |  male   |  t4 naive cells from human peripheral blood mononuclear cells (pbmcs) |  2 | igtb1029 |\n| GSM1350869 |  40 |  male   |  t4 naive cells from human peripheral blood mononuclear cells (pbmcs) |  1 | igtb1030 |\n| GSM1350870 |  19 |  female |  t4 naive cells from human peripheral blood mononuclear cells (pbmcs) |  2 | igtb1032 |\n| GSM1350871 |  23 |  female |  t4 naive cells from human peripheral blood mononuclear cells (pbmcs) |  2 | igtb1034 |\n| GSM1350872 |  20 |  male   |  t4 naive cells from human peripheral blood mononuclear cells (pbmcs) |  2 | igtb1037 |\n| GSM1350873 |  20 |  male   |  t4 naive cells from human peripheral blood mononuclear cells (pbmcs) |  4 | igtb1037 |\n| GSM1350874 |  41 |  female |  t4 naive cells from human peripheral blood mononuclear cells (pbmcs) |  1 | igtb1038 |\n| GSM1350875 |  43 |  male   |  t4 naive cells from human peripheral blood mononuclear cells (pbmcs) |  2 | igtb1042 |\n| GSM1350876 |  40 |  female |  t4 naive cells from human peripheral blood mononuclear cells (pbmcs) |  6 | igtb1052 |\n| GSM1350877 |  46 |  female |  t4 naive cells from human peripheral blood mononuclear cells (pbmcs) |  4 | igtb1056 |\n| GSM1350878 |  47 |  female |  t4 naive cells from human peripheral blood mononuclear cells (pbmcs) |  2 | igtb1057 |\n| GSM1350879 |  47 |  female |  t4 naive cells from human peripheral blood mononuclear cells (pbmcs) |  4 | igtb1057 |\n| GSM1350880 |  38 |  male   |  t4 naive cells from human peripheral blood mononuclear cells (pbmcs) |  2 | igtb1059 |\n| GSM1350881 |  44 |  male   |  t4 naive cells from human peripheral blood mononuclear cells (pbmcs) |  2 | igtb1060 |\n| GSM1350882 |  27 |  female |  t4 naive cells from human peripheral blood mononuclear cells (pbmcs) |  3 | igtb1066 |\n| GSM1350883 |  46 |  male   |  t4 naive cells from human peripheral blood mononuclear cells (pbmcs) |  1 | igtb1067 |\n| GSM1350884 |  20 |  male   |  t4 naive cells from human peripheral blood mononuclear cells (pbmcs) |  1 | igtb107  |\n| GSM1350885 |  20 |  male   |  t4 naive cells from human peripheral blood mononuclear cells (pbmcs) |  6 | igtb107  |\n| ⋮ | ⋮ | ⋮ | ⋮ | ⋮ | ⋮ |\n| GSM1355958 |  34 |  male   |  monocytes from peripheral blood mononuclear cells (pbmcs) |  1 | igtb995  |\n| GSM1355959 |  20 |  female |  monocytes from peripheral blood mononuclear cells (pbmcs) |  2 | igtb1017 |\n| GSM1355960 |  20 |  female |  monocytes from peripheral blood mononuclear cells (pbmcs) |  2 | igtb1031 |\n| GSM1355961 |  22 |  female |  monocytes from peripheral blood mononuclear cells (pbmcs) |  3 | igtb1047 |\n| GSM1355962 |  29 |  female |  monocytes from peripheral blood mononuclear cells (pbmcs) |  3 | igtb1048 |\n| GSM1355963 |  30 |  male   |  monocytes from peripheral blood mononuclear cells (pbmcs) |  3 | igtb1090 |\n| GSM1355964 |  30 |  male   |  monocytes from peripheral blood mononuclear cells (pbmcs) |  4 | igtb1090 |\n| GSM1355965 |  31 |  female |  monocytes from peripheral blood mononuclear cells (pbmcs) |  4 | igtb1117 |\n| GSM1355966 |  37 |  male   |  monocytes from peripheral blood mononuclear cells (pbmcs) |  3 | igtb1153 |\n| GSM1355967 |  21 |  female |  monocytes from peripheral blood mononuclear cells (pbmcs) |  3 | igtb1178 |\n| GSM1355968 |  22 |  female |  monocytes from peripheral blood mononuclear cells (pbmcs) |  4 | igtb1210 |\n| GSM1355969 |  26 |  female |  monocytes from peripheral blood mononuclear cells (pbmcs) |  4 | igtb1214 |\n| GSM1355970 |  30 |  female |  monocytes from peripheral blood mononuclear cells (pbmcs) |  4 | igtb1218 |\n| GSM1355971 |  42 |  male   |  monocytes from peripheral blood mononuclear cells (pbmcs) |  3 | igtb1233 |\n| GSM1355972 |  19 |  male   |  monocytes from peripheral blood mononuclear cells (pbmcs) |  3 | igtb1238 |\n| GSM1355973 |  24 |  female |  monocytes from peripheral blood mononuclear cells (pbmcs) |  3 | igtb1249 |\n| GSM1355974 |  23 |  female |  monocytes from peripheral blood mononuclear cells (pbmcs) |  3 | igtb1253 |\n| GSM1355975 |  28 |  female |  monocytes from peripheral blood mononuclear cells (pbmcs) |  4 | igtb1262 |\n| GSM1355976 |  19 |  male   |  monocytes from peripheral blood mononuclear cells (pbmcs) |  5 | igtb1330 |\n| GSM1355977 |  38 |  male   |  monocytes from peripheral blood mononuclear cells (pbmcs) |  4 | igtb1386 |\n| GSM1355978 |  20 |  female |  monocytes from peripheral blood mononuclear cells (pbmcs) |  4 | igtb1387 |\n| GSM1355979 |  36 |  female |  monocytes from peripheral blood mononuclear cells (pbmcs) |  4 | igtb1388 |\n| GSM1355980 |  35 |  male   |  monocytes from peripheral blood mononuclear cells (pbmcs) |  6 | igtb1389 |\n| GSM1355981 |  41 |  male   |  monocytes from peripheral blood mononuclear cells (pbmcs) |  5 | igtb1501 |\n| GSM1355982 |  21 |  male   |  monocytes from peripheral blood mononuclear cells (pbmcs) |  6 | igtb1528 |\n| GSM1355983 |  34 |  male   |  monocytes from peripheral blood mononuclear cells (pbmcs) |  5 | igtb1530 |\n| GSM1355984 |  22 |  female |  monocytes from peripheral blood mononuclear cells (pbmcs) |  4 | igtb1593 |\n| GSM1355985 |  28 |  male   |  monocytes from peripheral blood mononuclear cells (pbmcs) |  5 | igtb1625 |\n| GSM1355986 |  24 |  female |  monocytes from peripheral blood mononuclear cells (pbmcs) |  6 | igtb1672 |\n| GSM1355987 |  24 |  female |  monocytes from peripheral blood mononuclear cells (pbmcs) |  6 | igtb1672 |\n\n",
            "text/latex": "A data.frame: 984 × 5\n\\begin{tabular}{r|lllll}\n  & age & gender & cell\\_type & batch & individual\\\\\n  & <chr> & <chr> & <chr> & <chr> & <chr>\\\\\n\\hline\n\tGSM1350856 &  30 &  female &  t4 naive cells from human peripheral blood mononuclear cells (pbmcs) &  1 & igtb10  \\\\\n\tGSM1350857 &  30 &  female &  t4 naive cells from human peripheral blood mononuclear cells (pbmcs) &  1 & igtb10  \\\\\n\tGSM1350858 &  47 &  male   &  t4 naive cells from human peripheral blood mononuclear cells (pbmcs) &  1 & igtb100 \\\\\n\tGSM1350859 &  46 &  female &  t4 naive cells from human peripheral blood mononuclear cells (pbmcs) &  4 & igtb1004\\\\\n\tGSM1350860 &  42 &  male   &  t4 naive cells from human peripheral blood mononuclear cells (pbmcs) &  1 & igtb1007\\\\\n\tGSM1350861 &  27 &  female &  t4 naive cells from human peripheral blood mononuclear cells (pbmcs) &  6 & igtb1009\\\\\n\tGSM1350862 &  20 &  female &  t4 naive cells from human peripheral blood mononuclear cells (pbmcs) &  1 & igtb1016\\\\\n\tGSM1350863 &  49 &  female &  t4 naive cells from human peripheral blood mononuclear cells (pbmcs) &  1 & igtb1018\\\\\n\tGSM1350864 &  23 &  female &  t4 naive cells from human peripheral blood mononuclear cells (pbmcs) &  1 & igtb1020\\\\\n\tGSM1350865 &  36 &  male   &  t4 naive cells from human peripheral blood mononuclear cells (pbmcs) &  4 & igtb1021\\\\\n\tGSM1350866 &  36 &  male   &  t4 naive cells from human peripheral blood mononuclear cells (pbmcs) &  6 & igtb1021\\\\\n\tGSM1350867 &  23 &  female &  t4 naive cells from human peripheral blood mononuclear cells (pbmcs) &  6 & igtb1026\\\\\n\tGSM1350868 &  43 &  male   &  t4 naive cells from human peripheral blood mononuclear cells (pbmcs) &  2 & igtb1029\\\\\n\tGSM1350869 &  40 &  male   &  t4 naive cells from human peripheral blood mononuclear cells (pbmcs) &  1 & igtb1030\\\\\n\tGSM1350870 &  19 &  female &  t4 naive cells from human peripheral blood mononuclear cells (pbmcs) &  2 & igtb1032\\\\\n\tGSM1350871 &  23 &  female &  t4 naive cells from human peripheral blood mononuclear cells (pbmcs) &  2 & igtb1034\\\\\n\tGSM1350872 &  20 &  male   &  t4 naive cells from human peripheral blood mononuclear cells (pbmcs) &  2 & igtb1037\\\\\n\tGSM1350873 &  20 &  male   &  t4 naive cells from human peripheral blood mononuclear cells (pbmcs) &  4 & igtb1037\\\\\n\tGSM1350874 &  41 &  female &  t4 naive cells from human peripheral blood mononuclear cells (pbmcs) &  1 & igtb1038\\\\\n\tGSM1350875 &  43 &  male   &  t4 naive cells from human peripheral blood mononuclear cells (pbmcs) &  2 & igtb1042\\\\\n\tGSM1350876 &  40 &  female &  t4 naive cells from human peripheral blood mononuclear cells (pbmcs) &  6 & igtb1052\\\\\n\tGSM1350877 &  46 &  female &  t4 naive cells from human peripheral blood mononuclear cells (pbmcs) &  4 & igtb1056\\\\\n\tGSM1350878 &  47 &  female &  t4 naive cells from human peripheral blood mononuclear cells (pbmcs) &  2 & igtb1057\\\\\n\tGSM1350879 &  47 &  female &  t4 naive cells from human peripheral blood mononuclear cells (pbmcs) &  4 & igtb1057\\\\\n\tGSM1350880 &  38 &  male   &  t4 naive cells from human peripheral blood mononuclear cells (pbmcs) &  2 & igtb1059\\\\\n\tGSM1350881 &  44 &  male   &  t4 naive cells from human peripheral blood mononuclear cells (pbmcs) &  2 & igtb1060\\\\\n\tGSM1350882 &  27 &  female &  t4 naive cells from human peripheral blood mononuclear cells (pbmcs) &  3 & igtb1066\\\\\n\tGSM1350883 &  46 &  male   &  t4 naive cells from human peripheral blood mononuclear cells (pbmcs) &  1 & igtb1067\\\\\n\tGSM1350884 &  20 &  male   &  t4 naive cells from human peripheral blood mononuclear cells (pbmcs) &  1 & igtb107 \\\\\n\tGSM1350885 &  20 &  male   &  t4 naive cells from human peripheral blood mononuclear cells (pbmcs) &  6 & igtb107 \\\\\n\t⋮ & ⋮ & ⋮ & ⋮ & ⋮ & ⋮\\\\\n\tGSM1355958 &  34 &  male   &  monocytes from peripheral blood mononuclear cells (pbmcs) &  1 & igtb995 \\\\\n\tGSM1355959 &  20 &  female &  monocytes from peripheral blood mononuclear cells (pbmcs) &  2 & igtb1017\\\\\n\tGSM1355960 &  20 &  female &  monocytes from peripheral blood mononuclear cells (pbmcs) &  2 & igtb1031\\\\\n\tGSM1355961 &  22 &  female &  monocytes from peripheral blood mononuclear cells (pbmcs) &  3 & igtb1047\\\\\n\tGSM1355962 &  29 &  female &  monocytes from peripheral blood mononuclear cells (pbmcs) &  3 & igtb1048\\\\\n\tGSM1355963 &  30 &  male   &  monocytes from peripheral blood mononuclear cells (pbmcs) &  3 & igtb1090\\\\\n\tGSM1355964 &  30 &  male   &  monocytes from peripheral blood mononuclear cells (pbmcs) &  4 & igtb1090\\\\\n\tGSM1355965 &  31 &  female &  monocytes from peripheral blood mononuclear cells (pbmcs) &  4 & igtb1117\\\\\n\tGSM1355966 &  37 &  male   &  monocytes from peripheral blood mononuclear cells (pbmcs) &  3 & igtb1153\\\\\n\tGSM1355967 &  21 &  female &  monocytes from peripheral blood mononuclear cells (pbmcs) &  3 & igtb1178\\\\\n\tGSM1355968 &  22 &  female &  monocytes from peripheral blood mononuclear cells (pbmcs) &  4 & igtb1210\\\\\n\tGSM1355969 &  26 &  female &  monocytes from peripheral blood mononuclear cells (pbmcs) &  4 & igtb1214\\\\\n\tGSM1355970 &  30 &  female &  monocytes from peripheral blood mononuclear cells (pbmcs) &  4 & igtb1218\\\\\n\tGSM1355971 &  42 &  male   &  monocytes from peripheral blood mononuclear cells (pbmcs) &  3 & igtb1233\\\\\n\tGSM1355972 &  19 &  male   &  monocytes from peripheral blood mononuclear cells (pbmcs) &  3 & igtb1238\\\\\n\tGSM1355973 &  24 &  female &  monocytes from peripheral blood mononuclear cells (pbmcs) &  3 & igtb1249\\\\\n\tGSM1355974 &  23 &  female &  monocytes from peripheral blood mononuclear cells (pbmcs) &  3 & igtb1253\\\\\n\tGSM1355975 &  28 &  female &  monocytes from peripheral blood mononuclear cells (pbmcs) &  4 & igtb1262\\\\\n\tGSM1355976 &  19 &  male   &  monocytes from peripheral blood mononuclear cells (pbmcs) &  5 & igtb1330\\\\\n\tGSM1355977 &  38 &  male   &  monocytes from peripheral blood mononuclear cells (pbmcs) &  4 & igtb1386\\\\\n\tGSM1355978 &  20 &  female &  monocytes from peripheral blood mononuclear cells (pbmcs) &  4 & igtb1387\\\\\n\tGSM1355979 &  36 &  female &  monocytes from peripheral blood mononuclear cells (pbmcs) &  4 & igtb1388\\\\\n\tGSM1355980 &  35 &  male   &  monocytes from peripheral blood mononuclear cells (pbmcs) &  6 & igtb1389\\\\\n\tGSM1355981 &  41 &  male   &  monocytes from peripheral blood mononuclear cells (pbmcs) &  5 & igtb1501\\\\\n\tGSM1355982 &  21 &  male   &  monocytes from peripheral blood mononuclear cells (pbmcs) &  6 & igtb1528\\\\\n\tGSM1355983 &  34 &  male   &  monocytes from peripheral blood mononuclear cells (pbmcs) &  5 & igtb1530\\\\\n\tGSM1355984 &  22 &  female &  monocytes from peripheral blood mononuclear cells (pbmcs) &  4 & igtb1593\\\\\n\tGSM1355985 &  28 &  male   &  monocytes from peripheral blood mononuclear cells (pbmcs) &  5 & igtb1625\\\\\n\tGSM1355986 &  24 &  female &  monocytes from peripheral blood mononuclear cells (pbmcs) &  6 & igtb1672\\\\\n\tGSM1355987 &  24 &  female &  monocytes from peripheral blood mononuclear cells (pbmcs) &  6 & igtb1672\\\\\n\\end{tabular}\n",
            "text/plain": [
              "           age gender \n",
              "GSM1350856  30  female\n",
              "GSM1350857  30  female\n",
              "GSM1350858  47  male  \n",
              "GSM1350859  46  female\n",
              "GSM1350860  42  male  \n",
              "GSM1350861  27  female\n",
              "GSM1350862  20  female\n",
              "GSM1350863  49  female\n",
              "GSM1350864  23  female\n",
              "GSM1350865  36  male  \n",
              "GSM1350866  36  male  \n",
              "GSM1350867  23  female\n",
              "GSM1350868  43  male  \n",
              "GSM1350869  40  male  \n",
              "GSM1350870  19  female\n",
              "GSM1350871  23  female\n",
              "GSM1350872  20  male  \n",
              "GSM1350873  20  male  \n",
              "GSM1350874  41  female\n",
              "GSM1350875  43  male  \n",
              "GSM1350876  40  female\n",
              "GSM1350877  46  female\n",
              "GSM1350878  47  female\n",
              "GSM1350879  47  female\n",
              "GSM1350880  38  male  \n",
              "GSM1350881  44  male  \n",
              "GSM1350882  27  female\n",
              "GSM1350883  46  male  \n",
              "GSM1350884  20  male  \n",
              "GSM1350885  20  male  \n",
              "⋮          ⋮   ⋮      \n",
              "GSM1355958  34  male  \n",
              "GSM1355959  20  female\n",
              "GSM1355960  20  female\n",
              "GSM1355961  22  female\n",
              "GSM1355962  29  female\n",
              "GSM1355963  30  male  \n",
              "GSM1355964  30  male  \n",
              "GSM1355965  31  female\n",
              "GSM1355966  37  male  \n",
              "GSM1355967  21  female\n",
              "GSM1355968  22  female\n",
              "GSM1355969  26  female\n",
              "GSM1355970  30  female\n",
              "GSM1355971  42  male  \n",
              "GSM1355972  19  male  \n",
              "GSM1355973  24  female\n",
              "GSM1355974  23  female\n",
              "GSM1355975  28  female\n",
              "GSM1355976  19  male  \n",
              "GSM1355977  38  male  \n",
              "GSM1355978  20  female\n",
              "GSM1355979  36  female\n",
              "GSM1355980  35  male  \n",
              "GSM1355981  41  male  \n",
              "GSM1355982  21  male  \n",
              "GSM1355983  34  male  \n",
              "GSM1355984  22  female\n",
              "GSM1355985  28  male  \n",
              "GSM1355986  24  female\n",
              "GSM1355987  24  female\n",
              "           cell_type                                                            \n",
              "GSM1350856  t4 naive cells from human peripheral blood mononuclear cells (pbmcs)\n",
              "GSM1350857  t4 naive cells from human peripheral blood mononuclear cells (pbmcs)\n",
              "GSM1350858  t4 naive cells from human peripheral blood mononuclear cells (pbmcs)\n",
              "GSM1350859  t4 naive cells from human peripheral blood mononuclear cells (pbmcs)\n",
              "GSM1350860  t4 naive cells from human peripheral blood mononuclear cells (pbmcs)\n",
              "GSM1350861  t4 naive cells from human peripheral blood mononuclear cells (pbmcs)\n",
              "GSM1350862  t4 naive cells from human peripheral blood mononuclear cells (pbmcs)\n",
              "GSM1350863  t4 naive cells from human peripheral blood mononuclear cells (pbmcs)\n",
              "GSM1350864  t4 naive cells from human peripheral blood mononuclear cells (pbmcs)\n",
              "GSM1350865  t4 naive cells from human peripheral blood mononuclear cells (pbmcs)\n",
              "GSM1350866  t4 naive cells from human peripheral blood mononuclear cells (pbmcs)\n",
              "GSM1350867  t4 naive cells from human peripheral blood mononuclear cells (pbmcs)\n",
              "GSM1350868  t4 naive cells from human peripheral blood mononuclear cells (pbmcs)\n",
              "GSM1350869  t4 naive cells from human peripheral blood mononuclear cells (pbmcs)\n",
              "GSM1350870  t4 naive cells from human peripheral blood mononuclear cells (pbmcs)\n",
              "GSM1350871  t4 naive cells from human peripheral blood mononuclear cells (pbmcs)\n",
              "GSM1350872  t4 naive cells from human peripheral blood mononuclear cells (pbmcs)\n",
              "GSM1350873  t4 naive cells from human peripheral blood mononuclear cells (pbmcs)\n",
              "GSM1350874  t4 naive cells from human peripheral blood mononuclear cells (pbmcs)\n",
              "GSM1350875  t4 naive cells from human peripheral blood mononuclear cells (pbmcs)\n",
              "GSM1350876  t4 naive cells from human peripheral blood mononuclear cells (pbmcs)\n",
              "GSM1350877  t4 naive cells from human peripheral blood mononuclear cells (pbmcs)\n",
              "GSM1350878  t4 naive cells from human peripheral blood mononuclear cells (pbmcs)\n",
              "GSM1350879  t4 naive cells from human peripheral blood mononuclear cells (pbmcs)\n",
              "GSM1350880  t4 naive cells from human peripheral blood mononuclear cells (pbmcs)\n",
              "GSM1350881  t4 naive cells from human peripheral blood mononuclear cells (pbmcs)\n",
              "GSM1350882  t4 naive cells from human peripheral blood mononuclear cells (pbmcs)\n",
              "GSM1350883  t4 naive cells from human peripheral blood mononuclear cells (pbmcs)\n",
              "GSM1350884  t4 naive cells from human peripheral blood mononuclear cells (pbmcs)\n",
              "GSM1350885  t4 naive cells from human peripheral blood mononuclear cells (pbmcs)\n",
              "⋮          ⋮                                                                    \n",
              "GSM1355958  monocytes from peripheral blood mononuclear cells (pbmcs)           \n",
              "GSM1355959  monocytes from peripheral blood mononuclear cells (pbmcs)           \n",
              "GSM1355960  monocytes from peripheral blood mononuclear cells (pbmcs)           \n",
              "GSM1355961  monocytes from peripheral blood mononuclear cells (pbmcs)           \n",
              "GSM1355962  monocytes from peripheral blood mononuclear cells (pbmcs)           \n",
              "GSM1355963  monocytes from peripheral blood mononuclear cells (pbmcs)           \n",
              "GSM1355964  monocytes from peripheral blood mononuclear cells (pbmcs)           \n",
              "GSM1355965  monocytes from peripheral blood mononuclear cells (pbmcs)           \n",
              "GSM1355966  monocytes from peripheral blood mononuclear cells (pbmcs)           \n",
              "GSM1355967  monocytes from peripheral blood mononuclear cells (pbmcs)           \n",
              "GSM1355968  monocytes from peripheral blood mononuclear cells (pbmcs)           \n",
              "GSM1355969  monocytes from peripheral blood mononuclear cells (pbmcs)           \n",
              "GSM1355970  monocytes from peripheral blood mononuclear cells (pbmcs)           \n",
              "GSM1355971  monocytes from peripheral blood mononuclear cells (pbmcs)           \n",
              "GSM1355972  monocytes from peripheral blood mononuclear cells (pbmcs)           \n",
              "GSM1355973  monocytes from peripheral blood mononuclear cells (pbmcs)           \n",
              "GSM1355974  monocytes from peripheral blood mononuclear cells (pbmcs)           \n",
              "GSM1355975  monocytes from peripheral blood mononuclear cells (pbmcs)           \n",
              "GSM1355976  monocytes from peripheral blood mononuclear cells (pbmcs)           \n",
              "GSM1355977  monocytes from peripheral blood mononuclear cells (pbmcs)           \n",
              "GSM1355978  monocytes from peripheral blood mononuclear cells (pbmcs)           \n",
              "GSM1355979  monocytes from peripheral blood mononuclear cells (pbmcs)           \n",
              "GSM1355980  monocytes from peripheral blood mononuclear cells (pbmcs)           \n",
              "GSM1355981  monocytes from peripheral blood mononuclear cells (pbmcs)           \n",
              "GSM1355982  monocytes from peripheral blood mononuclear cells (pbmcs)           \n",
              "GSM1355983  monocytes from peripheral blood mononuclear cells (pbmcs)           \n",
              "GSM1355984  monocytes from peripheral blood mononuclear cells (pbmcs)           \n",
              "GSM1355985  monocytes from peripheral blood mononuclear cells (pbmcs)           \n",
              "GSM1355986  monocytes from peripheral blood mononuclear cells (pbmcs)           \n",
              "GSM1355987  monocytes from peripheral blood mononuclear cells (pbmcs)           \n",
              "           batch individual\n",
              "GSM1350856  1    igtb10    \n",
              "GSM1350857  1    igtb10    \n",
              "GSM1350858  1    igtb100   \n",
              "GSM1350859  4    igtb1004  \n",
              "GSM1350860  1    igtb1007  \n",
              "GSM1350861  6    igtb1009  \n",
              "GSM1350862  1    igtb1016  \n",
              "GSM1350863  1    igtb1018  \n",
              "GSM1350864  1    igtb1020  \n",
              "GSM1350865  4    igtb1021  \n",
              "GSM1350866  6    igtb1021  \n",
              "GSM1350867  6    igtb1026  \n",
              "GSM1350868  2    igtb1029  \n",
              "GSM1350869  1    igtb1030  \n",
              "GSM1350870  2    igtb1032  \n",
              "GSM1350871  2    igtb1034  \n",
              "GSM1350872  2    igtb1037  \n",
              "GSM1350873  4    igtb1037  \n",
              "GSM1350874  1    igtb1038  \n",
              "GSM1350875  2    igtb1042  \n",
              "GSM1350876  6    igtb1052  \n",
              "GSM1350877  4    igtb1056  \n",
              "GSM1350878  2    igtb1057  \n",
              "GSM1350879  4    igtb1057  \n",
              "GSM1350880  2    igtb1059  \n",
              "GSM1350881  2    igtb1060  \n",
              "GSM1350882  3    igtb1066  \n",
              "GSM1350883  1    igtb1067  \n",
              "GSM1350884  1    igtb107   \n",
              "GSM1350885  6    igtb107   \n",
              "⋮          ⋮     ⋮         \n",
              "GSM1355958  1    igtb995   \n",
              "GSM1355959  2    igtb1017  \n",
              "GSM1355960  2    igtb1031  \n",
              "GSM1355961  3    igtb1047  \n",
              "GSM1355962  3    igtb1048  \n",
              "GSM1355963  3    igtb1090  \n",
              "GSM1355964  4    igtb1090  \n",
              "GSM1355965  4    igtb1117  \n",
              "GSM1355966  3    igtb1153  \n",
              "GSM1355967  3    igtb1178  \n",
              "GSM1355968  4    igtb1210  \n",
              "GSM1355969  4    igtb1214  \n",
              "GSM1355970  4    igtb1218  \n",
              "GSM1355971  3    igtb1233  \n",
              "GSM1355972  3    igtb1238  \n",
              "GSM1355973  3    igtb1249  \n",
              "GSM1355974  3    igtb1253  \n",
              "GSM1355975  4    igtb1262  \n",
              "GSM1355976  5    igtb1330  \n",
              "GSM1355977  4    igtb1386  \n",
              "GSM1355978  4    igtb1387  \n",
              "GSM1355979  4    igtb1388  \n",
              "GSM1355980  6    igtb1389  \n",
              "GSM1355981  5    igtb1501  \n",
              "GSM1355982  6    igtb1528  \n",
              "GSM1355983  5    igtb1530  \n",
              "GSM1355984  4    igtb1593  \n",
              "GSM1355985  5    igtb1625  \n",
              "GSM1355986  6    igtb1672  \n",
              "GSM1355987  6    igtb1672  "
            ]
          },
          "metadata": {}
        }
      ]
    },
    {
      "cell_type": "code",
      "source": [
        "# match format input of variation partition\n",
        "ID <- rownames(meta_matrix)\n",
        "meta_matrix <- cbind(ID, meta_matrix)\n",
        "\n",
        "\n",
        "meta_matrix$ID <- as.factor(meta_matrix$ID)\n",
        "meta_matrix$age <- as.integer(meta_matrix$age)\n",
        "meta_matrix$gender <- as.factor(meta_matrix$gender)\n",
        "meta_matrix$cell_type <- as.factor(meta_matrix$cell_type)\n",
        "meta_matrix$batch <- as.factor(meta_matrix$batch)\n",
        "meta_matrix$individual <- as.factor(meta_matrix$individual)"
      ],
      "metadata": {
        "id": "KJxo09_6L1CW"
      },
      "execution_count": null,
      "outputs": []
    },
    {
      "cell_type": "code",
      "source": [
        "head(meta_matrix)"
      ],
      "metadata": {
        "colab": {
          "base_uri": "https://localhost:8080/",
          "height": 286
        },
        "id": "jB_spJevLQGY",
        "outputId": "4459652e-48de-4585-be36-30a691983525"
      },
      "execution_count": null,
      "outputs": [
        {
          "output_type": "display_data",
          "data": {
            "text/html": [
              "<table class=\"dataframe\">\n",
              "<caption>A data.frame: 6 × 6</caption>\n",
              "<thead>\n",
              "\t<tr><th></th><th scope=col>ID</th><th scope=col>age</th><th scope=col>gender</th><th scope=col>cell_type</th><th scope=col>batch</th><th scope=col>individual</th></tr>\n",
              "\t<tr><th></th><th scope=col>&lt;fct&gt;</th><th scope=col>&lt;int&gt;</th><th scope=col>&lt;fct&gt;</th><th scope=col>&lt;fct&gt;</th><th scope=col>&lt;fct&gt;</th><th scope=col>&lt;fct&gt;</th></tr>\n",
              "</thead>\n",
              "<tbody>\n",
              "\t<tr><th scope=row>GSM1350856</th><td>GSM1350856</td><td>30</td><td> female</td><td> t4 naive cells from human peripheral blood mononuclear cells (pbmcs)</td><td> 1</td><td>igtb10  </td></tr>\n",
              "\t<tr><th scope=row>GSM1350857</th><td>GSM1350857</td><td>30</td><td> female</td><td> t4 naive cells from human peripheral blood mononuclear cells (pbmcs)</td><td> 1</td><td>igtb10  </td></tr>\n",
              "\t<tr><th scope=row>GSM1350858</th><td>GSM1350858</td><td>47</td><td> male  </td><td> t4 naive cells from human peripheral blood mononuclear cells (pbmcs)</td><td> 1</td><td>igtb100 </td></tr>\n",
              "\t<tr><th scope=row>GSM1350859</th><td>GSM1350859</td><td>46</td><td> female</td><td> t4 naive cells from human peripheral blood mononuclear cells (pbmcs)</td><td> 4</td><td>igtb1004</td></tr>\n",
              "\t<tr><th scope=row>GSM1350860</th><td>GSM1350860</td><td>42</td><td> male  </td><td> t4 naive cells from human peripheral blood mononuclear cells (pbmcs)</td><td> 1</td><td>igtb1007</td></tr>\n",
              "\t<tr><th scope=row>GSM1350861</th><td>GSM1350861</td><td>27</td><td> female</td><td> t4 naive cells from human peripheral blood mononuclear cells (pbmcs)</td><td> 6</td><td>igtb1009</td></tr>\n",
              "</tbody>\n",
              "</table>\n"
            ],
            "text/markdown": "\nA data.frame: 6 × 6\n\n| <!--/--> | ID &lt;fct&gt; | age &lt;int&gt; | gender &lt;fct&gt; | cell_type &lt;fct&gt; | batch &lt;fct&gt; | individual &lt;fct&gt; |\n|---|---|---|---|---|---|---|\n| GSM1350856 | GSM1350856 | 30 |  female |  t4 naive cells from human peripheral blood mononuclear cells (pbmcs) |  1 | igtb10   |\n| GSM1350857 | GSM1350857 | 30 |  female |  t4 naive cells from human peripheral blood mononuclear cells (pbmcs) |  1 | igtb10   |\n| GSM1350858 | GSM1350858 | 47 |  male   |  t4 naive cells from human peripheral blood mononuclear cells (pbmcs) |  1 | igtb100  |\n| GSM1350859 | GSM1350859 | 46 |  female |  t4 naive cells from human peripheral blood mononuclear cells (pbmcs) |  4 | igtb1004 |\n| GSM1350860 | GSM1350860 | 42 |  male   |  t4 naive cells from human peripheral blood mononuclear cells (pbmcs) |  1 | igtb1007 |\n| GSM1350861 | GSM1350861 | 27 |  female |  t4 naive cells from human peripheral blood mononuclear cells (pbmcs) |  6 | igtb1009 |\n\n",
            "text/latex": "A data.frame: 6 × 6\n\\begin{tabular}{r|llllll}\n  & ID & age & gender & cell\\_type & batch & individual\\\\\n  & <fct> & <int> & <fct> & <fct> & <fct> & <fct>\\\\\n\\hline\n\tGSM1350856 & GSM1350856 & 30 &  female &  t4 naive cells from human peripheral blood mononuclear cells (pbmcs) &  1 & igtb10  \\\\\n\tGSM1350857 & GSM1350857 & 30 &  female &  t4 naive cells from human peripheral blood mononuclear cells (pbmcs) &  1 & igtb10  \\\\\n\tGSM1350858 & GSM1350858 & 47 &  male   &  t4 naive cells from human peripheral blood mononuclear cells (pbmcs) &  1 & igtb100 \\\\\n\tGSM1350859 & GSM1350859 & 46 &  female &  t4 naive cells from human peripheral blood mononuclear cells (pbmcs) &  4 & igtb1004\\\\\n\tGSM1350860 & GSM1350860 & 42 &  male   &  t4 naive cells from human peripheral blood mononuclear cells (pbmcs) &  1 & igtb1007\\\\\n\tGSM1350861 & GSM1350861 & 27 &  female &  t4 naive cells from human peripheral blood mononuclear cells (pbmcs) &  6 & igtb1009\\\\\n\\end{tabular}\n",
            "text/plain": [
              "           ID         age gender \n",
              "GSM1350856 GSM1350856 30   female\n",
              "GSM1350857 GSM1350857 30   female\n",
              "GSM1350858 GSM1350858 47   male  \n",
              "GSM1350859 GSM1350859 46   female\n",
              "GSM1350860 GSM1350860 42   male  \n",
              "GSM1350861 GSM1350861 27   female\n",
              "           cell_type                                                            \n",
              "GSM1350856  t4 naive cells from human peripheral blood mononuclear cells (pbmcs)\n",
              "GSM1350857  t4 naive cells from human peripheral blood mononuclear cells (pbmcs)\n",
              "GSM1350858  t4 naive cells from human peripheral blood mononuclear cells (pbmcs)\n",
              "GSM1350859  t4 naive cells from human peripheral blood mononuclear cells (pbmcs)\n",
              "GSM1350860  t4 naive cells from human peripheral blood mononuclear cells (pbmcs)\n",
              "GSM1350861  t4 naive cells from human peripheral blood mononuclear cells (pbmcs)\n",
              "           batch individual\n",
              "GSM1350856  1    igtb10    \n",
              "GSM1350857  1    igtb10    \n",
              "GSM1350858  1    igtb100   \n",
              "GSM1350859  4    igtb1004  \n",
              "GSM1350860  1    igtb1007  \n",
              "GSM1350861  6    igtb1009  "
            ]
          },
          "metadata": {}
        }
      ]
    },
    {
      "cell_type": "markdown",
      "source": [
        "# Variation Partition "
      ],
      "metadata": {
        "id": "uo0FWEzjB7Lt"
      }
    },
    {
      "cell_type": "code",
      "source": [
        "# variable/ column names \n",
        "colnames(meta_matrix)"
      ],
      "metadata": {
        "colab": {
          "base_uri": "https://localhost:8080/",
          "height": 34
        },
        "id": "kJcZMtU-HXXX",
        "outputId": "edce282e-9a45-4fa5-e71e-cfb3bcc3887b"
      },
      "execution_count": null,
      "outputs": [
        {
          "output_type": "display_data",
          "data": {
            "text/html": [
              "<style>\n",
              ".list-inline {list-style: none; margin:0; padding: 0}\n",
              ".list-inline>li {display: inline-block}\n",
              ".list-inline>li:not(:last-child)::after {content: \"\\00b7\"; padding: 0 .5ex}\n",
              "</style>\n",
              "<ol class=list-inline><li>'ID'</li><li>'age'</li><li>'gender'</li><li>'cell_type'</li><li>'batch'</li><li>'individual'</li></ol>\n"
            ],
            "text/markdown": "1. 'ID'\n2. 'age'\n3. 'gender'\n4. 'cell_type'\n5. 'batch'\n6. 'individual'\n\n\n",
            "text/latex": "\\begin{enumerate*}\n\\item 'ID'\n\\item 'age'\n\\item 'gender'\n\\item 'cell\\_type'\n\\item 'batch'\n\\item 'individual'\n\\end{enumerate*}\n",
            "text/plain": [
              "[1] \"ID\"         \"age\"        \"gender\"     \"cell_type\"  \"batch\"     \n",
              "[6] \"individual\""
            ]
          },
          "metadata": {}
        }
      ]
    },
    {
      "cell_type": "code",
      "source": [
        "# subtract the effects of batch with limma - method 1 \n",
        "fit <- lmFit(expr_matrix, model.matrix(~batch, meta_matrix))\n",
        "res <- residuals(fit, expr_matrix)\n",
        "\n",
        "# partitin variance with the remaining residual without batch\n",
        "form <-  ~ age + (1|gender) + (1|cell_type) + (1|individual)\n",
        "varPartResid <- fitExtractVarPartModel(res, form, meta_matrix)"
      ],
      "metadata": {
        "colab": {
          "base_uri": "https://localhost:8080/"
        },
        "id": "TGLRJQiJ5FeJ",
        "outputId": "9a655b4a-9752-4500-92f6-a568d030f318"
      },
      "execution_count": null,
      "outputs": [
        {
          "output_type": "stream",
          "name": "stderr",
          "text": [
            "Dividing work into 100 chunks...\n",
            "\n",
            "\n",
            "Total:2204 s\n",
            "\n"
          ]
        }
      ]
    },
    {
      "cell_type": "code",
      "source": [
        "# examine output structure - each row should sum to 1\n",
        "head(data.frame(varPartResid))\n",
        "\n",
        "write.csv(data.frame(varPartResid), \"/content/varPartResid.csv\")"
      ],
      "metadata": {
        "colab": {
          "base_uri": "https://localhost:8080/",
          "height": 286
        },
        "id": "tfMC2wLIC6HX",
        "outputId": "4efaf482-0bd1-40a2-8b38-1ce24e32316d"
      },
      "execution_count": null,
      "outputs": [
        {
          "output_type": "display_data",
          "data": {
            "text/html": [
              "<table class=\"dataframe\">\n",
              "<caption>A data.frame: 6 × 5</caption>\n",
              "<thead>\n",
              "\t<tr><th></th><th scope=col>cell_type</th><th scope=col>gender</th><th scope=col>individual</th><th scope=col>age</th><th scope=col>Residuals</th></tr>\n",
              "\t<tr><th></th><th scope=col>&lt;dbl&gt;</th><th scope=col>&lt;dbl&gt;</th><th scope=col>&lt;dbl&gt;</th><th scope=col>&lt;dbl&gt;</th><th scope=col>&lt;dbl&gt;</th></tr>\n",
              "</thead>\n",
              "<tbody>\n",
              "\t<tr><th scope=row>7896740</th><td>0.051421269</td><td>2.789072e-03</td><td>0.09527727</td><td>0.0006889381</td><td>0.8498235</td></tr>\n",
              "\t<tr><th scope=row>7896742</th><td>0.338110417</td><td>0.000000e+00</td><td>0.18269662</td><td>0.0005109159</td><td>0.4786821</td></tr>\n",
              "\t<tr><th scope=row>7896744</th><td>0.003359053</td><td>2.731338e-06</td><td>0.11422617</td><td>0.0007692933</td><td>0.8816428</td></tr>\n",
              "\t<tr><th scope=row>7896750</th><td>0.000000000</td><td>0.000000e+00</td><td>0.11325822</td><td>0.0002595351</td><td>0.8864822</td></tr>\n",
              "\t<tr><th scope=row>7896754</th><td>0.275511240</td><td>0.000000e+00</td><td>0.21323000</td><td>0.0005135548</td><td>0.5107452</td></tr>\n",
              "\t<tr><th scope=row>7896756</th><td>0.467265610</td><td>6.082497e-03</td><td>0.07523141</td><td>0.0013573172</td><td>0.4500632</td></tr>\n",
              "</tbody>\n",
              "</table>\n"
            ],
            "text/markdown": "\nA data.frame: 6 × 5\n\n| <!--/--> | cell_type &lt;dbl&gt; | gender &lt;dbl&gt; | individual &lt;dbl&gt; | age &lt;dbl&gt; | Residuals &lt;dbl&gt; |\n|---|---|---|---|---|---|\n| 7896740 | 0.051421269 | 2.789072e-03 | 0.09527727 | 0.0006889381 | 0.8498235 |\n| 7896742 | 0.338110417 | 0.000000e+00 | 0.18269662 | 0.0005109159 | 0.4786821 |\n| 7896744 | 0.003359053 | 2.731338e-06 | 0.11422617 | 0.0007692933 | 0.8816428 |\n| 7896750 | 0.000000000 | 0.000000e+00 | 0.11325822 | 0.0002595351 | 0.8864822 |\n| 7896754 | 0.275511240 | 0.000000e+00 | 0.21323000 | 0.0005135548 | 0.5107452 |\n| 7896756 | 0.467265610 | 6.082497e-03 | 0.07523141 | 0.0013573172 | 0.4500632 |\n\n",
            "text/latex": "A data.frame: 6 × 5\n\\begin{tabular}{r|lllll}\n  & cell\\_type & gender & individual & age & Residuals\\\\\n  & <dbl> & <dbl> & <dbl> & <dbl> & <dbl>\\\\\n\\hline\n\t7896740 & 0.051421269 & 2.789072e-03 & 0.09527727 & 0.0006889381 & 0.8498235\\\\\n\t7896742 & 0.338110417 & 0.000000e+00 & 0.18269662 & 0.0005109159 & 0.4786821\\\\\n\t7896744 & 0.003359053 & 2.731338e-06 & 0.11422617 & 0.0007692933 & 0.8816428\\\\\n\t7896750 & 0.000000000 & 0.000000e+00 & 0.11325822 & 0.0002595351 & 0.8864822\\\\\n\t7896754 & 0.275511240 & 0.000000e+00 & 0.21323000 & 0.0005135548 & 0.5107452\\\\\n\t7896756 & 0.467265610 & 6.082497e-03 & 0.07523141 & 0.0013573172 & 0.4500632\\\\\n\\end{tabular}\n",
            "text/plain": [
              "        cell_type   gender       individual age          Residuals\n",
              "7896740 0.051421269 2.789072e-03 0.09527727 0.0006889381 0.8498235\n",
              "7896742 0.338110417 0.000000e+00 0.18269662 0.0005109159 0.4786821\n",
              "7896744 0.003359053 2.731338e-06 0.11422617 0.0007692933 0.8816428\n",
              "7896750 0.000000000 0.000000e+00 0.11325822 0.0002595351 0.8864822\n",
              "7896754 0.275511240 0.000000e+00 0.21323000 0.0005135548 0.5107452\n",
              "7896756 0.467265610 6.082497e-03 0.07523141 0.0013573172 0.4500632"
            ]
          },
          "metadata": {}
        }
      ]
    },
    {
      "cell_type": "code",
      "source": [
        "# correlation between all pairs of variables \n",
        "form <- ~ individual + cell_type + age + gender\n",
        "C = canCorPairs(form, meta_matrix)\n",
        "\n",
        "plotCorrMatrix(C)"
      ],
      "metadata": {
        "colab": {
          "base_uri": "https://localhost:8080/",
          "height": 506
        },
        "id": "ohFifZhDIDdk",
        "outputId": "690e1823-4846-4711-b3ec-39abfedfa99c"
      },
      "execution_count": null,
      "outputs": [
        {
          "output_type": "stream",
          "name": "stderr",
          "text": [
            "Warning message in canCorPairs(form, meta_matrix):\n",
            "“Regression model may be problematic.\n",
            "High colinearity between variables:\n",
            "  individual and gender”\n"
          ]
        },
        {
          "output_type": "display_data",
          "data": {
            "text/plain": [
              "Plot with title “”"
            ],
            "image/png": "[encoded data removed]"
          },
          "metadata": {
            "image/png": {
              "width": 420,
              "height": 420
            }
          }
        }
      ]
    },
    {
      "cell_type": "code",
      "source": [
        "# find the proportional of total variance explained by each column/variable\n",
        "ct <- sum(varPartResid$cell_type)\n",
        "indi <- sum(varPartResid$gender, varPartResid$individual, varPartResid$age)\n",
        "r <- sum(varPartResid$Residuals)\n",
        "\n",
        "total <- sum(ct, indi, r)\n",
        "\n",
        "cat(\"fraction explained by cell type: \", ct/total, \"\\n\")\n",
        "cat(\"fraction exlained by individual: \", indi/total, \"\\n\")\n",
        "cat(\"fraction explained by residuals: \", r/total, \"\\n\")"
      ],
      "metadata": {
        "colab": {
          "base_uri": "https://localhost:8080/"
        },
        "id": "be41LCIvNWlh",
        "outputId": "616382e0-b855-4856-9da1-ed086749c7c6"
      },
      "execution_count": null,
      "outputs": [
        {
          "output_type": "stream",
          "name": "stdout",
          "text": [
            "fraction explained by cell type:  0.4512524 \n",
            "fraction exlained by individual:  0.08530131 \n",
            "fraction explained by residuals:  0.4634462 \n"
          ]
        }
      ]
    },
    {
      "cell_type": "code",
      "source": [
        "# sort variables (columns) by median fraction of variance explaned\n",
        "p <- sortCols( varPartResid )\n",
        "\n",
        "# plot variance fraction for the first 100 genes\n",
        "plotVarPart( vp )\n",
        "plotPercentBars( vp[1:100,] )\n"
      ],
      "metadata": {
        "colab": {
          "base_uri": "https://localhost:8080/",
          "height": 857
        },
        "id": "cg1q78e44AE-",
        "outputId": "956c22da-ddfa-4886-d635-aeb73818b367"
      },
      "execution_count": null,
      "outputs": [
        {
          "output_type": "display_data",
          "data": {
            "text/plain": [
              "plot without title"
            ],
            "image/png": "[encoded data removed]"
          },
          "metadata": {
            "image/png": {
              "width": 420,
              "height": 420
            }
          }
        },
        {
          "output_type": "display_data",
          "data": {
            "text/plain": [
              "plot without title"
            ],
            "image/png": "[encoded data removed]"
          },
          "metadata": {
            "image/png": {
              "width": 420,
              "height": 420
            }
          }
        }
      ]
    },
    {
      "cell_type": "code",
      "source": [
        "# summarize variance explained by each column/ variable \n",
        "print(\"cell_type\")\n",
        "summary(varPartResid$cell_type)\n",
        "\n",
        "print(\"individual\")\n",
        "summary(varPartResid$individual)\n",
        "\n",
        "print(\"age\")\n",
        "summary(varPartResid$age)\n",
        "\n",
        "print(\"gender\")\n",
        "summary(varPartResid$gender)"
      ],
      "metadata": {
        "colab": {
          "base_uri": "https://localhost:8080/",
          "height": 225
        },
        "id": "MypsOYvTJB9x",
        "outputId": "866a37ab-6c5f-4b0d-d255-556574a5fa63"
      },
      "execution_count": null,
      "outputs": [
        {
          "output_type": "stream",
          "name": "stdout",
          "text": [
            "[1] \"cell_type\"\n"
          ]
        },
        {
          "output_type": "display_data",
          "data": {
            "text/plain": [
              "   Min. 1st Qu.  Median    Mean 3rd Qu.    Max. \n",
              " 0.0000  0.2019  0.4652  0.4513  0.6848  0.9867 "
            ]
          },
          "metadata": {}
        },
        {
          "output_type": "stream",
          "name": "stdout",
          "text": [
            "[1] \"individual\"\n"
          ]
        },
        {
          "output_type": "display_data",
          "data": {
            "text/plain": [
              "   Min. 1st Qu.  Median    Mean 3rd Qu.    Max. \n",
              "0.00000 0.02390 0.05380 0.08105 0.11208 0.82844 "
            ]
          },
          "metadata": {}
        },
        {
          "output_type": "stream",
          "name": "stdout",
          "text": [
            "[1] \"age\"\n"
          ]
        },
        {
          "output_type": "display_data",
          "data": {
            "text/plain": [
              "     Min.   1st Qu.    Median      Mean   3rd Qu.      Max. \n",
              "0.000e+00 9.587e-05 4.528e-04 1.600e-03 1.449e-03 9.590e-02 "
            ]
          },
          "metadata": {}
        },
        {
          "output_type": "stream",
          "name": "stdout",
          "text": [
            "[1] \"gender\"\n"
          ]
        },
        {
          "output_type": "display_data",
          "data": {
            "text/plain": [
              "     Min.   1st Qu.    Median      Mean   3rd Qu.      Max. \n",
              "0.0000000 0.0000000 0.0000001 0.0026500 0.0016746 0.9131837 "
            ]
          },
          "metadata": {}
        }
      ]
    },
    {
      "cell_type": "code",
      "source": [
        "# cell_type \n",
        "ggplot(varPartResid, aes(x=cell_type)) + geom_histogram(bins = 100) + xlim(0, 1) +ylim(0,1000)"
      ],
      "metadata": {
        "colab": {
          "base_uri": "https://localhost:8080/",
          "height": 472
        },
        "id": "X7BbLgj-MDqK",
        "outputId": "a7a7c420-e2a2-4f13-f695-3de3b5fde0b9"
      },
      "execution_count": null,
      "outputs": [
        {
          "output_type": "stream",
          "name": "stderr",
          "text": [
            "Warning message:\n",
            "“\u001b[1m\u001b[22mRemoved 2 rows containing missing values (`geom_bar()`).”\n"
          ]
        },
        {
          "output_type": "display_data",
          "data": {
            "text/plain": [
              "plot without title"
            ],
            "image/png": "[encoded data removed]"
          },
          "metadata": {
            "image/png": {
              "width": 420,
              "height": 420
            }
          }
        }
      ]
    },
    {
      "cell_type": "code",
      "source": [
        "# gender\n",
        "ggplot(varPartResid, aes(x=gender)) + geom_histogram(bins= 100) + xlim(0, 1) +ylim(0,20)"
      ],
      "metadata": {
        "colab": {
          "base_uri": "https://localhost:8080/",
          "height": 472
        },
        "id": "Wdqg2DUwYsVv",
        "outputId": "c4e6dd16-5e1d-49cb-deb1-768f3d042357"
      },
      "execution_count": null,
      "outputs": [
        {
          "output_type": "stream",
          "name": "stderr",
          "text": [
            "Warning message:\n",
            "“\u001b[1m\u001b[22mRemoved 7 rows containing missing values (`geom_bar()`).”\n"
          ]
        },
        {
          "output_type": "display_data",
          "data": {
            "text/plain": [
              "plot without title"
            ],
            "image/png": "[encoded data removed]"
          },
          "metadata": {
            "image/png": {
              "width": 420,
              "height": 420
            }
          }
        }
      ]
    },
    {
      "cell_type": "code",
      "source": [
        "# age\n",
        "ggplot(varPartResid, aes(x=gender)) + geom_histogram(bins= 100) + xlim(0, 1) +ylim(0,20)"
      ],
      "metadata": {
        "colab": {
          "base_uri": "https://localhost:8080/",
          "height": 472
        },
        "id": "w-DKu7aHZEpu",
        "outputId": "37597f7f-5ccf-4ccf-85b2-bd7fff55948b"
      },
      "execution_count": null,
      "outputs": [
        {
          "output_type": "stream",
          "name": "stderr",
          "text": [
            "Warning message:\n",
            "“\u001b[1m\u001b[22mRemoved 7 rows containing missing values (`geom_bar()`).”\n"
          ]
        },
        {
          "output_type": "display_data",
          "data": {
            "text/plain": [
              "plot without title"
            ],
            "image/png": "[encoded data removed]"
          },
          "metadata": {
            "image/png": {
              "width": 420,
              "height": 420
            }
          }
        }
      ]
    },
    {
      "cell_type": "code",
      "source": [
        "# individual\n",
        "ggplot(varPartResid, aes(x=individual)) + geom_histogram(bins = 100) + xlim(0, 1) +ylim(0,100)"
      ],
      "metadata": {
        "colab": {
          "base_uri": "https://localhost:8080/",
          "height": 472
        },
        "id": "Gl7IrpzGKNPm",
        "outputId": "3c623d0f-c6ac-4a8d-a6bb-4f28e68ea145"
      },
      "execution_count": null,
      "outputs": [
        {
          "output_type": "stream",
          "name": "stderr",
          "text": [
            "Warning message:\n",
            "“\u001b[1m\u001b[22mRemoved 29 rows containing missing values (`geom_bar()`).”\n"
          ]
        },
        {
          "output_type": "display_data",
          "data": {
            "text/plain": [
              "plot without title"
            ],
            "image/png": "[encoded data removed]"
          },
          "metadata": {
            "image/png": {
              "width": 420,
              "height": 420
            }
          }
        }
      ]
    },
    {
      "cell_type": "code",
      "source": [
        "# get genes with the highest variation accross cell_types\n",
        "i <- which.max(varPartResid$cell_type)\n",
        "GE <- data.frame(Expression = expr_matrix[i,], cell_type = meta_matrix$cell_type)\n",
        "\n",
        "# plot the gene with highest variatio across \n",
        "plotStratify(Expression~ cell_type, GE, main=rownames(expr_matrix)[i])"
      ],
      "metadata": {
        "colab": {
          "base_uri": "https://localhost:8080/",
          "height": 437
        },
        "id": "iU9qeBnVIDjU",
        "outputId": "76e15987-4f4f-4a07-f649-63c2e17f806a"
      },
      "execution_count": null,
      "outputs": [
        {
          "output_type": "display_data",
          "data": {
            "text/plain": [
              "plot without title"
            ],
            "image/png": "[encoded data removed]"
          },
          "metadata": {
            "image/png": {
              "width": 420,
              "height": 420
            }
          }
        }
      ]
    }
  ]
}